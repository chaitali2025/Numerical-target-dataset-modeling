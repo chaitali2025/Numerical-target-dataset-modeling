{
 "cells": [
  {
   "cell_type": "markdown",
   "id": "934a50cc-d6dc-466f-b9b2-3f26b34e2ad3",
   "metadata": {},
   "source": [
    "Numerical target data analysis::\n",
    "read of file::To undentify the best fitted model for identifying bodyfat value by considering other dependent variables."
   ]
  },
  {
   "cell_type": "code",
   "execution_count": 2,
   "id": "7a922763-e4f9-48ae-915f-c53e7a30010b",
   "metadata": {},
   "outputs": [
    {
     "data": {
      "text/html": [
       "<div>\n",
       "<style scoped>\n",
       "    .dataframe tbody tr th:only-of-type {\n",
       "        vertical-align: middle;\n",
       "    }\n",
       "\n",
       "    .dataframe tbody tr th {\n",
       "        vertical-align: top;\n",
       "    }\n",
       "\n",
       "    .dataframe thead th {\n",
       "        text-align: right;\n",
       "    }\n",
       "</style>\n",
       "<table border=\"1\" class=\"dataframe\">\n",
       "  <thead>\n",
       "    <tr style=\"text-align: right;\">\n",
       "      <th></th>\n",
       "      <th>Bodyfat</th>\n",
       "      <th>Age</th>\n",
       "      <th>Weight</th>\n",
       "      <th>Height</th>\n",
       "      <th>Neck</th>\n",
       "      <th>Chest</th>\n",
       "      <th>Abdomen</th>\n",
       "      <th>Ankle</th>\n",
       "      <th>Biceps</th>\n",
       "      <th>Wrist</th>\n",
       "    </tr>\n",
       "  </thead>\n",
       "  <tbody>\n",
       "    <tr>\n",
       "      <th>90</th>\n",
       "      <td>22</td>\n",
       "      <td>43</td>\n",
       "      <td>150</td>\n",
       "      <td>69</td>\n",
       "      <td>35.2</td>\n",
       "      <td>91</td>\n",
       "      <td>86</td>\n",
       "      <td>22</td>\n",
       "      <td>29</td>\n",
       "      <td>17</td>\n",
       "    </tr>\n",
       "    <tr>\n",
       "      <th>91</th>\n",
       "      <td>27</td>\n",
       "      <td>49</td>\n",
       "      <td>216</td>\n",
       "      <td>75</td>\n",
       "      <td>40.2</td>\n",
       "      <td>116</td>\n",
       "      <td>104</td>\n",
       "      <td>23</td>\n",
       "      <td>37</td>\n",
       "      <td>19</td>\n",
       "    </tr>\n",
       "    <tr>\n",
       "      <th>92</th>\n",
       "      <td>28</td>\n",
       "      <td>50</td>\n",
       "      <td>197</td>\n",
       "      <td>68</td>\n",
       "      <td>42.1</td>\n",
       "      <td>106</td>\n",
       "      <td>99</td>\n",
       "      <td>25</td>\n",
       "      <td>33</td>\n",
       "      <td>19</td>\n",
       "    </tr>\n",
       "    <tr>\n",
       "      <th>93</th>\n",
       "      <td>4</td>\n",
       "      <td>27</td>\n",
       "      <td>159</td>\n",
       "      <td>72</td>\n",
       "      <td>35.7</td>\n",
       "      <td>90</td>\n",
       "      <td>80</td>\n",
       "      <td>23</td>\n",
       "      <td>30</td>\n",
       "      <td>18</td>\n",
       "    </tr>\n",
       "    <tr>\n",
       "      <th>94</th>\n",
       "      <td>10</td>\n",
       "      <td>23</td>\n",
       "      <td>188</td>\n",
       "      <td>78</td>\n",
       "      <td>38.0</td>\n",
       "      <td>97</td>\n",
       "      <td>85</td>\n",
       "      <td>23</td>\n",
       "      <td>32</td>\n",
       "      <td>18</td>\n",
       "    </tr>\n",
       "    <tr>\n",
       "      <th>95</th>\n",
       "      <td>20</td>\n",
       "      <td>48</td>\n",
       "      <td>177</td>\n",
       "      <td>73</td>\n",
       "      <td>36.8</td>\n",
       "      <td>96</td>\n",
       "      <td>90</td>\n",
       "      <td>23</td>\n",
       "      <td>30</td>\n",
       "      <td>18</td>\n",
       "    </tr>\n",
       "    <tr>\n",
       "      <th>96</th>\n",
       "      <td>29</td>\n",
       "      <td>43</td>\n",
       "      <td>188</td>\n",
       "      <td>74</td>\n",
       "      <td>37.7</td>\n",
       "      <td>98</td>\n",
       "      <td>99</td>\n",
       "      <td>24</td>\n",
       "      <td>34</td>\n",
       "      <td>18</td>\n",
       "    </tr>\n",
       "    <tr>\n",
       "      <th>97</th>\n",
       "      <td>13</td>\n",
       "      <td>33</td>\n",
       "      <td>184</td>\n",
       "      <td>69</td>\n",
       "      <td>40.7</td>\n",
       "      <td>99</td>\n",
       "      <td>92</td>\n",
       "      <td>24</td>\n",
       "      <td>34</td>\n",
       "      <td>20</td>\n",
       "    </tr>\n",
       "    <tr>\n",
       "      <th>98</th>\n",
       "      <td>25</td>\n",
       "      <td>26</td>\n",
       "      <td>223</td>\n",
       "      <td>70</td>\n",
       "      <td>40.6</td>\n",
       "      <td>114</td>\n",
       "      <td>107</td>\n",
       "      <td>25</td>\n",
       "      <td>36</td>\n",
       "      <td>18</td>\n",
       "    </tr>\n",
       "    <tr>\n",
       "      <th>99</th>\n",
       "      <td>4</td>\n",
       "      <td>47</td>\n",
       "      <td>128</td>\n",
       "      <td>67</td>\n",
       "      <td>34.0</td>\n",
       "      <td>83</td>\n",
       "      <td>70</td>\n",
       "      <td>22</td>\n",
       "      <td>27</td>\n",
       "      <td>17</td>\n",
       "    </tr>\n",
       "  </tbody>\n",
       "</table>\n",
       "</div>"
      ],
      "text/plain": [
       "    Bodyfat  Age  Weight  Height  Neck  Chest  Abdomen  Ankle  Biceps  Wrist\n",
       "90       22   43     150      69  35.2     91       86     22      29     17\n",
       "91       27   49     216      75  40.2    116      104     23      37     19\n",
       "92       28   50     197      68  42.1    106       99     25      33     19\n",
       "93        4   27     159      72  35.7     90       80     23      30     18\n",
       "94       10   23     188      78  38.0     97       85     23      32     18\n",
       "95       20   48     177      73  36.8     96       90     23      30     18\n",
       "96       29   43     188      74  37.7     98       99     24      34     18\n",
       "97       13   33     184      69  40.7     99       92     24      34     20\n",
       "98       25   26     223      70  40.6    114      107     25      36     18\n",
       "99        4   47     128      67  34.0     83       70     22      27     17"
      ]
     },
     "execution_count": 2,
     "metadata": {},
     "output_type": "execute_result"
    }
   ],
   "source": [
    "import pandas as pd\n",
    "#path=E:\\Python Dataset\\BankCreditCard.csv\n",
    "bf=pd.read_csv(r\"E:\\Python Dataset\\Bodyfat.csv\")\n",
    "import numpy as np\n",
    "import matplotlib.pyplot as plt\n",
    "import seaborn as sns\n",
    "from sklearn.preprocessing import LabelEncoder\n",
    "le=LabelEncoder()\n",
    "from sklearn.linear_model import LinearRegression\n",
    "import warnings \n",
    "warnings.filterwarnings('ignore')\n",
    "bf.shape\n",
    "#bf=bf.drop([\"Bodyfat\"],axis=1)\n",
    "from sklearn.metrics import confusion_matrix\n",
    "from sklearn.metrics import classification_report\n",
    "#AUCROC CURVE=Area Under Curve of Receiver Operating Characteristics\n",
    "from sklearn.metrics import roc_auc_score\n",
    "from sklearn.metrics import roc_curve\n",
    "#PRC =Precision Recall Curve\n",
    "from sklearn.metrics import precision_recall_curve\n",
    "from sklearn.metrics import f1_score\n",
    "bf.shape\n",
    "bf.head(10)\n",
    "bf.tail(10)"
   ]
  },
  {
   "cell_type": "markdown",
   "id": "3d8200e5-1dda-4646-8a5c-105f1c5ced16",
   "metadata": {},
   "source": [
    "data cleaning::preprocessing::"
   ]
  },
  {
   "cell_type": "code",
   "execution_count": 4,
   "id": "b8723ba4-c50b-4724-8ea2-f3072e90f6f2",
   "metadata": {},
   "outputs": [
    {
     "data": {
      "text/plain": [
       "Bodyfat    0\n",
       "Age        0\n",
       "Weight     0\n",
       "Height     0\n",
       "Neck       0\n",
       "Chest      0\n",
       "Abdomen    0\n",
       "Ankle      0\n",
       "Biceps     0\n",
       "Wrist      0\n",
       "dtype: int64"
      ]
     },
     "execution_count": 4,
     "metadata": {},
     "output_type": "execute_result"
    }
   ],
   "source": [
    "bf.isnull().sum()"
   ]
  },
  {
   "cell_type": "code",
   "execution_count": 5,
   "id": "058a2763-e0bd-4e8b-b4e3-b4dd4dfc978e",
   "metadata": {},
   "outputs": [
    {
     "data": {
      "text/plain": [
       "Bodyfat      int64\n",
       "Age          int64\n",
       "Weight       int64\n",
       "Height       int64\n",
       "Neck       float64\n",
       "Chest        int64\n",
       "Abdomen      int64\n",
       "Ankle        int64\n",
       "Biceps       int64\n",
       "Wrist        int64\n",
       "dtype: object"
      ]
     },
     "execution_count": 5,
     "metadata": {},
     "output_type": "execute_result"
    }
   ],
   "source": [
    "bf.dtypes"
   ]
  },
  {
   "cell_type": "code",
   "execution_count": 6,
   "id": "ad857eb6-c5e9-49c8-bbb9-5c99478292df",
   "metadata": {},
   "outputs": [
    {
     "data": {
      "text/plain": [
       "(100, 10)"
      ]
     },
     "execution_count": 6,
     "metadata": {},
     "output_type": "execute_result"
    }
   ],
   "source": [
    "bf.shape "
   ]
  },
  {
   "cell_type": "code",
   "execution_count": 7,
   "id": "2e91535b-cff0-429e-bd89-36753227ab0b",
   "metadata": {},
   "outputs": [],
   "source": [
    "bf.drop_duplicates(inplace=True)"
   ]
  },
  {
   "cell_type": "code",
   "execution_count": 8,
   "id": "25d4a5ab-6419-4d4e-8cec-5a99c250aaa9",
   "metadata": {},
   "outputs": [
    {
     "data": {
      "text/plain": [
       "(100, 10)"
      ]
     },
     "execution_count": 8,
     "metadata": {},
     "output_type": "execute_result"
    }
   ],
   "source": [
    "bf.shape"
   ]
  },
  {
   "cell_type": "markdown",
   "id": "be809cae-e2e0-45ba-a804-bb3b260b2302",
   "metadata": {},
   "source": [
    "EDA process::class imbalance::"
   ]
  },
  {
   "cell_type": "markdown",
   "id": "856bff85-343f-40f3-9454-677f293d84aa",
   "metadata": {},
   "source": [
    "as it is a numerical column so class imbalance is not applied here ."
   ]
  },
  {
   "cell_type": "markdown",
   "id": "f34e2dad-4a25-4535-90be-381eeb9b3371",
   "metadata": {},
   "source": [
    "outlier treatment::"
   ]
  },
  {
   "cell_type": "code",
   "execution_count": 12,
   "id": "53bec69a-4ea1-4802-8935-fa14e0559a21",
   "metadata": {},
   "outputs": [],
   "source": [
    "#l1=bf[\"Age\"]\n",
    "#l1"
   ]
  },
  {
   "cell_type": "code",
   "execution_count": 13,
   "id": "426fdf81-c071-4ae8-9e1b-992f810bb467",
   "metadata": {},
   "outputs": [],
   "source": [
    "#outliers=[]\n",
    "#def detect_outlier(l1):\n",
    "# threshold=3\n",
    "# mean=np.mean(l1)\n",
    "# std=np.std(l1)\n",
    "# for i in l1:\n",
    "#     z_score=(i-mean)/std\n",
    "# if np.abs(z_score)>threshold:\n",
    "#    outliers.append(i)\n",
    "# return outliers\n",
    "# detect_outlier(l1)"
   ]
  },
  {
   "cell_type": "code",
   "execution_count": 14,
   "id": "1322a2dc-bc58-48f4-b0c8-437fb2a730ec",
   "metadata": {},
   "outputs": [],
   "source": [
    "#import seaborn as sns\n",
    "#sns.boxplot(data=bf,y=\"Age\")"
   ]
  },
  {
   "cell_type": "code",
   "execution_count": 15,
   "id": "738e7dd5-7be2-4c0b-b882-6d8572417569",
   "metadata": {},
   "outputs": [],
   "source": [
    "#bf.Age.hist()"
   ]
  },
  {
   "cell_type": "code",
   "execution_count": 16,
   "id": "75367fcb-c067-4bd3-a02c-d449710e9319",
   "metadata": {},
   "outputs": [],
   "source": [
    "#sns.distplot(bf.Age)# no skewness has found to treat."
   ]
  },
  {
   "cell_type": "code",
   "execution_count": 17,
   "id": "22e53862-2697-4265-a466-e29366e95a06",
   "metadata": {},
   "outputs": [],
   "source": [
    "#ub=bf[\"Age\"].mean()+3*bf[\"Age\"].std()\n",
    "#lb=bf[\"Age\"].mean()-3*bf[\"Age\"].std()\n",
    "#print(ub,lb)"
   ]
  },
  {
   "cell_type": "code",
   "execution_count": 18,
   "id": "10fe2d37-f170-44d8-a044-9d5735b82b31",
   "metadata": {},
   "outputs": [],
   "source": [
    "#bf[\"Age\"].describe()"
   ]
  },
  {
   "cell_type": "code",
   "execution_count": 19,
   "id": "992cb902-47b8-4f0b-8169-ab18f9a55b7d",
   "metadata": {},
   "outputs": [],
   "source": [
    "#bf.loc[bf[\"Age\"]>ub,\"Age\"]=ub\n",
    "#sns.boxplot(data=bf,y=\"Age\")"
   ]
  },
  {
   "cell_type": "code",
   "execution_count": 20,
   "id": "8d19a38e-fba7-4fdd-909f-4a6549e1ec54",
   "metadata": {},
   "outputs": [],
   "source": [
    "#l2=bf[\"Weight\"]\n",
    "#l2"
   ]
  },
  {
   "cell_type": "code",
   "execution_count": 21,
   "id": "dd0845dd-cf07-491e-9099-337a629af006",
   "metadata": {},
   "outputs": [],
   "source": [
    "#outliers=[]\n",
    "#def detect_outlier(l2):\n",
    "# threshold=3\n",
    "# mean=np.mean(l2)\n",
    "# std=np.std(l2)\n",
    "# for i in l1:\n",
    "#     z_score=(i-mean)/std\n",
    "# if np.abs(z_score)>threshold:\n",
    "#    outliers.append(i)\n",
    "# return outliers\n",
    "# detect_outlier(l2)"
   ]
  },
  {
   "cell_type": "code",
   "execution_count": 22,
   "id": "635be5ec-4ddd-4298-9b0c-94961a20aa38",
   "metadata": {},
   "outputs": [],
   "source": [
    "#import seaborn as sns\n",
    "#sns.boxplot(data=bf,y=\"Weight\")"
   ]
  },
  {
   "cell_type": "code",
   "execution_count": 23,
   "id": "9f9d0d33-5925-4fc2-93ad-b20dfd74cb3c",
   "metadata": {},
   "outputs": [],
   "source": [
    "#bf.Weight.hist()"
   ]
  },
  {
   "cell_type": "code",
   "execution_count": 24,
   "id": "cb9483dd-18d8-4285-b6d8-87c29c0800b1",
   "metadata": {},
   "outputs": [],
   "source": [
    "#sns.distplot(bf.Age)# no skewness has found to treat."
   ]
  },
  {
   "cell_type": "code",
   "execution_count": 25,
   "id": "24ff3641-1ac7-4eba-8b26-9c13dce8a370",
   "metadata": {},
   "outputs": [],
   "source": [
    "#ub=bf[\"Weight\"].mean()+3*bf[\"Weight\"].std()\n",
    "#lb=bf[\"Weight\"].mean()-3*bf[\"Weight\"].std()\n",
    "#print(ub,lb)"
   ]
  },
  {
   "cell_type": "code",
   "execution_count": 26,
   "id": "a91f50a0-504e-422e-a12e-fee7c61350be",
   "metadata": {},
   "outputs": [],
   "source": [
    "#bf[\"Weight\"].describe()"
   ]
  },
  {
   "cell_type": "code",
   "execution_count": 27,
   "id": "4a83d4fb-adc3-445f-b746-a5cc504422d5",
   "metadata": {},
   "outputs": [],
   "source": [
    "#bf.loc[bf[\"Weight\"]>ub,\"Weight\"]=ub\n",
    "#sns.boxplot(data=bf,y=\"Weight\")"
   ]
  },
  {
   "cell_type": "code",
   "execution_count": 28,
   "id": "18fcb3aa-0f61-40aa-b704-3573902f04fd",
   "metadata": {},
   "outputs": [],
   "source": [
    "#import seaborn as sns\n",
    "#sns.boxplot(data=bf,y=\"Height\")#no outlier has found to treat."
   ]
  },
  {
   "cell_type": "code",
   "execution_count": 29,
   "id": "31c6d50b-4cf1-4df8-8e36-c6f5e5606cd7",
   "metadata": {},
   "outputs": [],
   "source": [
    "#sns.distplot(bf.Height)# no skewness has found to treat."
   ]
  },
  {
   "cell_type": "code",
   "execution_count": 30,
   "id": "9488a35d-9465-4374-8adb-64899b02a742",
   "metadata": {},
   "outputs": [],
   "source": [
    "#import seaborn as sns\n",
    "#sns.boxplot(data=bf,y=\"Neck\")#no outlier has found to treat."
   ]
  },
  {
   "cell_type": "code",
   "execution_count": 31,
   "id": "7ec9ad80-a92f-4029-923c-c66d8d86cc05",
   "metadata": {},
   "outputs": [],
   "source": [
    "#sns.distplot(bf.Neck)# no skewness has found to treat."
   ]
  },
  {
   "cell_type": "code",
   "execution_count": 32,
   "id": "8c64d23e-a038-4fc9-a706-9e04b63fca6c",
   "metadata": {},
   "outputs": [],
   "source": [
    "#import seaborn as sns\n",
    "#sns.boxplot(data=bf,y=\"Chest\")"
   ]
  },
  {
   "cell_type": "code",
   "execution_count": 33,
   "id": "6d18e1b9-ba5d-4a52-b5b0-6c5861cc0d4c",
   "metadata": {},
   "outputs": [],
   "source": [
    "#sns.distplot(bf.Chest)"
   ]
  },
  {
   "cell_type": "code",
   "execution_count": 34,
   "id": "a18d8862-7cb1-411b-87f0-ac425bf2f17e",
   "metadata": {},
   "outputs": [],
   "source": [
    "#l3=bf[\"Chest\"]\n",
    "#l3"
   ]
  },
  {
   "cell_type": "code",
   "execution_count": 35,
   "id": "868efd75-60a7-428c-9f2a-1d7afa9a1233",
   "metadata": {},
   "outputs": [],
   "source": [
    "#outliers=[]\n",
    "#def detect_outlier(l3):\n",
    "# threshold=3\n",
    "# mean=np.mean(l3)\n",
    "# std=np.std(l3)\n",
    "# for i in l1:\n",
    "#     z_score=(i-mean)/std\n",
    "# if np.abs(z_score)>threshold:\n",
    "#    outliers.append(i)\n",
    "# return outliers\n",
    "# detect_outlier(l3)"
   ]
  },
  {
   "cell_type": "code",
   "execution_count": 36,
   "id": "26c841da-6ecb-4ee4-88db-1e137438a4f3",
   "metadata": {},
   "outputs": [],
   "source": [
    "#ub=bf[\"Chest\"].mean()+3*bf[\"Chest\"].std()\n",
    "#lb=bf[\"Chest\"].mean()-3*bf[\"Chest\"].std()\n",
    "#print(ub,lb)"
   ]
  },
  {
   "cell_type": "code",
   "execution_count": 37,
   "id": "aacf7649-2909-46a4-a5e1-6665b8babd5e",
   "metadata": {},
   "outputs": [],
   "source": [
    "#bf[\"Chest\"].describe()"
   ]
  },
  {
   "cell_type": "code",
   "execution_count": 38,
   "id": "6f21653b-0303-47ac-afc5-a2da93030a26",
   "metadata": {},
   "outputs": [],
   "source": [
    "#bf.loc[bf[\"Chest\"]>ub,\"Chest\"]=ub\n",
    "#sns.boxplot(data=bf,y=\"Chest\")"
   ]
  },
  {
   "cell_type": "code",
   "execution_count": 39,
   "id": "2bcfef0d-a610-4352-a5c1-2dbd35da3700",
   "metadata": {},
   "outputs": [],
   "source": [
    "#skewness treatment::\n",
    "#bf.Chest.skew()"
   ]
  },
  {
   "cell_type": "code",
   "execution_count": 40,
   "id": "754493cb-7f65-4d71-86d5-47d048239dff",
   "metadata": {},
   "outputs": [],
   "source": [
    "#import numpy as np\n",
    "#np.log(0)"
   ]
  },
  {
   "cell_type": "code",
   "execution_count": 41,
   "id": "b1e3f41f-125f-4b54-a14e-977354e31fe9",
   "metadata": {},
   "outputs": [],
   "source": [
    "#bf.shape"
   ]
  },
  {
   "cell_type": "code",
   "execution_count": 42,
   "id": "f99be08f-e840-4ccd-b3c0-237ab91e7295",
   "metadata": {},
   "outputs": [],
   "source": [
    "#bf_new=bf[bf.Chest>0]"
   ]
  },
  {
   "cell_type": "code",
   "execution_count": 43,
   "id": "22744214-f9df-456e-bfb0-e6d59f001464",
   "metadata": {},
   "outputs": [],
   "source": [
    "#bf_new.shape"
   ]
  },
  {
   "cell_type": "code",
   "execution_count": 44,
   "id": "a4c2c09b-6306-4322-be34-ea3aefc03090",
   "metadata": {},
   "outputs": [],
   "source": [
    "#IQR=bf.Chest.quantile(0.75)-bf.Chest.quantile(0.25)\n",
    "#L1=bf[\"Chest\"].quantile(0.25)-(IQR*3)\n",
    "#U1=bf[\"Chest\"].quantile(0.75)+(IQR*3)\n",
    "#print(L1,U1)"
   ]
  },
  {
   "cell_type": "code",
   "execution_count": 45,
   "id": "a915c436-d842-4705-8967-316a67773da2",
   "metadata": {},
   "outputs": [],
   "source": [
    "#bf[\"Chest\"]=np.log(bf[\"Chest\"])\n",
    "#bf.Chest.skew()"
   ]
  },
  {
   "cell_type": "code",
   "execution_count": 46,
   "id": "8a8e194b-67de-45d3-aebd-b5c902423c80",
   "metadata": {},
   "outputs": [],
   "source": [
    "#sns.distplot(bf_new.Chest)"
   ]
  },
  {
   "cell_type": "code",
   "execution_count": 47,
   "id": "58cf74a4-1eeb-40b9-b1bd-c7bfec689a9b",
   "metadata": {},
   "outputs": [],
   "source": [
    "#import seaborn as sns\n",
    "#sns.boxplot(data=bf,y=\"Abdomen\")"
   ]
  },
  {
   "cell_type": "code",
   "execution_count": 48,
   "id": "0159db21-8ba5-4334-92e9-b7b621c83bad",
   "metadata": {},
   "outputs": [],
   "source": [
    "#sns.distplot(bf.Abdomen)"
   ]
  },
  {
   "cell_type": "code",
   "execution_count": 49,
   "id": "974be6c7-38c6-4bc2-b2d8-39276059a1fe",
   "metadata": {},
   "outputs": [],
   "source": [
    "#l4=bf[\"Abdomen\"]\n",
    "#l4"
   ]
  },
  {
   "cell_type": "code",
   "execution_count": 50,
   "id": "fe55a6b1-b934-4523-93b6-7d3399aff118",
   "metadata": {},
   "outputs": [],
   "source": [
    "#outliers=[]\n",
    "#def detect_outlier(l4):\n",
    "# threshold=3\n",
    "# mean=np.mean(l4)\n",
    "# std=np.std(l4)\n",
    "# for i in l1:\n",
    "#     z_score=(i-mean)/std\n",
    "# if np.abs(z_score)>threshold:\n",
    "#    outliers.append(i)\n",
    "# return outliers\n",
    " #detect_outlier(l4)"
   ]
  },
  {
   "cell_type": "code",
   "execution_count": 51,
   "id": "3ec012c2-f1da-4e07-8eaf-30714bb11f53",
   "metadata": {},
   "outputs": [],
   "source": [
    "#ub=bf[\"Abdomen\"].mean()+3*bf[\"Abdomen\"].std()\n",
    "#lb=bf[\"Abdomen\"].mean()-3*bf[\"Abdomen\"].std()\n",
    "#print(ub,lb)"
   ]
  },
  {
   "cell_type": "code",
   "execution_count": 52,
   "id": "d56929fa-1798-431e-9ae1-04384bea82f3",
   "metadata": {},
   "outputs": [],
   "source": [
    "#bf[\"Abdomen\"].describe()"
   ]
  },
  {
   "cell_type": "code",
   "execution_count": 53,
   "id": "15bfa961-ad56-4f31-9843-7f767072f86f",
   "metadata": {},
   "outputs": [],
   "source": [
    "#bf.loc[bf[\"Abdomen\"]>ub,\"Abdomen\"]=ub\n",
    "#sns.boxplot(data=bf,y=\"Abdomen\")"
   ]
  },
  {
   "cell_type": "markdown",
   "id": "c90e343c-7dd4-43ad-a3c1-83a9fc39fb40",
   "metadata": {},
   "source": [
    "skewness treatment::"
   ]
  },
  {
   "cell_type": "code",
   "execution_count": 55,
   "id": "e0c9ad85-824e-47ac-813e-5e51cf6cf517",
   "metadata": {},
   "outputs": [],
   "source": [
    "#bf.Abdomen.skew()"
   ]
  },
  {
   "cell_type": "code",
   "execution_count": 56,
   "id": "66902708-5f0e-4c35-b768-281f29ed1bc5",
   "metadata": {},
   "outputs": [],
   "source": [
    "#import numpy as np\n",
    "#np.log(0)"
   ]
  },
  {
   "cell_type": "code",
   "execution_count": 57,
   "id": "e164543c-5dd1-4db7-a64c-8367e5807a3d",
   "metadata": {},
   "outputs": [],
   "source": [
    "#bf.shape"
   ]
  },
  {
   "cell_type": "code",
   "execution_count": 58,
   "id": "067d3bed-7361-4c83-a047-90be1f949615",
   "metadata": {},
   "outputs": [],
   "source": [
    "#bf_new=bf[bf.Abdomen>0]"
   ]
  },
  {
   "cell_type": "code",
   "execution_count": 59,
   "id": "727ad318-1494-478b-9144-6f08f3352336",
   "metadata": {},
   "outputs": [],
   "source": [
    "#bf_new.shape"
   ]
  },
  {
   "cell_type": "code",
   "execution_count": 60,
   "id": "82b4fa63-9fa3-45c5-b7fe-d376785b8af1",
   "metadata": {},
   "outputs": [],
   "source": [
    "#bf[\"Abdomen\"]=np.log(bf[\"Abdomen\"])\n",
    "#bf.Abdomen.skew()"
   ]
  },
  {
   "cell_type": "code",
   "execution_count": 61,
   "id": "f36b8c62-68b0-43f5-9acb-ff1a75e0471f",
   "metadata": {},
   "outputs": [],
   "source": [
    "#sns.distplot(bf_new.Abdomen)"
   ]
  },
  {
   "cell_type": "code",
   "execution_count": 62,
   "id": "6b710aa6-1572-4a30-ae1d-c000f5bd29eb",
   "metadata": {},
   "outputs": [],
   "source": [
    "#IQR=bf.Abdomen.quantile(0.75)-bf.Abdomen.quantile(0.25)\n",
    "#L1=bf[\"Abdomen\"].quantile(0.25)-(IQR*3)\n",
    "#U1=bf[\"Abdomen\"].quantile(0.75)+(IQR*3)\n",
    "#print(L1,U1)"
   ]
  },
  {
   "cell_type": "code",
   "execution_count": 63,
   "id": "f9e9bb7d-a605-4eb4-83b7-8bd02ff735ce",
   "metadata": {},
   "outputs": [],
   "source": [
    "#bf.loc[bf[\"Abdomen\"]>U1,\"Abdomen\"]=U1\n",
    "#sns.distplot(bf.Abdomen)"
   ]
  },
  {
   "cell_type": "code",
   "execution_count": 64,
   "id": "f8133242-a625-4399-8198-667e700825e2",
   "metadata": {},
   "outputs": [],
   "source": [
    "#import seaborn as sns\n",
    "#sns.boxplot(data=bf,y=\"Ankle\")"
   ]
  },
  {
   "cell_type": "code",
   "execution_count": 65,
   "id": "b2b7d8bf-68ea-4343-b229-aaff1e004300",
   "metadata": {},
   "outputs": [],
   "source": [
    "#sns.distplot(bf.Ankle)"
   ]
  },
  {
   "cell_type": "code",
   "execution_count": 66,
   "id": "59cc2edb-f08b-43cb-94eb-8361c97a7854",
   "metadata": {},
   "outputs": [],
   "source": [
    "#l5=bf[\"Ankle\"]\n",
    "#l5"
   ]
  },
  {
   "cell_type": "code",
   "execution_count": 67,
   "id": "7877e7d9-b137-4da8-8a79-eddda0341165",
   "metadata": {},
   "outputs": [],
   "source": [
    "#outliers=[]\n",
    "#def detect_outlier(l5):\n",
    "# threshold=3\n",
    "# mean=np.mean(l5)\n",
    "#                                    std=np.std(l5)\n",
    "# for i in l1:\n",
    "#     z_score=(i-mean)/std\n",
    "# if np.abs(z_score)>threshold:\n",
    "#    outliers.append(i)\n",
    "# return outliers\n",
    "# detect_outlier(l5)"
   ]
  },
  {
   "cell_type": "code",
   "execution_count": 68,
   "id": "414e55ad-a949-45de-94f5-da08b96486f9",
   "metadata": {},
   "outputs": [],
   "source": [
    "#ub=bf[\"Ankle\"].mean()+3*bf[\"Ankle\"].std()\n",
    "#lb=bf[\"Ankle\"].mean()-3*bf[\"Ankle\"].std()\n",
    "#print(ub,lb)"
   ]
  },
  {
   "cell_type": "code",
   "execution_count": 69,
   "id": "af0c03e4-e6a1-4cf0-908a-541c36cd4749",
   "metadata": {},
   "outputs": [],
   "source": [
    "#bf[\"Ankle\"].describe()"
   ]
  },
  {
   "cell_type": "code",
   "execution_count": 70,
   "id": "2e70b426-b3d8-45da-b34d-1fc81897e8b8",
   "metadata": {},
   "outputs": [],
   "source": [
    "#bf.loc[bf[\"Ankle\"]>ub,\"Ankle\"]=ub\n",
    "#sns.boxplot(data=bf,y=\"Ankle\")"
   ]
  },
  {
   "cell_type": "markdown",
   "id": "61a510b6-ac98-4d1d-a184-2f7cd79116c8",
   "metadata": {},
   "source": [
    "skewness treatment::"
   ]
  },
  {
   "cell_type": "code",
   "execution_count": 72,
   "id": "3c278bcb-de0e-4545-bba2-63213a5fe89f",
   "metadata": {},
   "outputs": [],
   "source": [
    "#bf.Ankle.skew()"
   ]
  },
  {
   "cell_type": "code",
   "execution_count": 73,
   "id": "ddd4c662-1819-4ec1-9228-5425b6552b59",
   "metadata": {},
   "outputs": [],
   "source": [
    "#import numpy as np\n",
    "#np.log(0)"
   ]
  },
  {
   "cell_type": "code",
   "execution_count": 74,
   "id": "50ef202d-442d-4f71-b77c-56f8f1c3dec4",
   "metadata": {},
   "outputs": [],
   "source": [
    "#bf_new=bf[bf.Ankle>0]"
   ]
  },
  {
   "cell_type": "code",
   "execution_count": 75,
   "id": "cd97d252-cfc9-4aed-9c44-f33161642c64",
   "metadata": {},
   "outputs": [],
   "source": [
    "#bf[\"Ankle\"]=np.log(bf[\"Ankle\"])\n",
    "#bf.Ankle.skew()"
   ]
  },
  {
   "cell_type": "code",
   "execution_count": 76,
   "id": "2d97aee9-573f-4904-b6a0-41a8e2cf62cf",
   "metadata": {},
   "outputs": [],
   "source": [
    "#IQR=bf.Ankle.quantile(0.75)-bf.Ankle.quantile(0.25)\n",
    "#L1=bf[\"Ankle\"].quantile(0.25)-(IQR*3)\n",
    "#U1=bf[\"Ankle\"].quantile(0.75)+(IQR*3)\n",
    "#print(L1,U1)"
   ]
  },
  {
   "cell_type": "code",
   "execution_count": 77,
   "id": "81d05f1c-4728-44fb-98ae-aa0b80bbadb0",
   "metadata": {},
   "outputs": [],
   "source": [
    "#bf.loc[bf[\"Ankle\"]>U1,\"Ankle\"]=U1\n",
    "#sns.distplot(bf.Ankle)"
   ]
  },
  {
   "cell_type": "code",
   "execution_count": 78,
   "id": "5d7488ae-d5ed-46b1-81c2-51a940cbc746",
   "metadata": {},
   "outputs": [],
   "source": [
    "#import seaborn as sns\n",
    "#sns.boxplot(data=bf,y=\"Biceps\")#no outlier is prtesent to treat."
   ]
  },
  {
   "cell_type": "code",
   "execution_count": 79,
   "id": "f9d86ceb-7c7f-4e2d-94d1-cf41e9b7b8ce",
   "metadata": {},
   "outputs": [],
   "source": [
    "#sns.distplot(bf.Biceps)#no skewness is present to treat."
   ]
  },
  {
   "cell_type": "code",
   "execution_count": 80,
   "id": "6e4e7ab6-63b6-4889-a19a-6bf3f3c1c770",
   "metadata": {},
   "outputs": [],
   "source": [
    "#import seaborn as sns\n",
    "#sns.boxplot(data=bf,y=\"Wrist\")"
   ]
  },
  {
   "cell_type": "code",
   "execution_count": 81,
   "id": "b0064fc1-83ca-4a7c-99b0-b035d95d3ffa",
   "metadata": {},
   "outputs": [],
   "source": [
    "#sns.distplot(bf.Wrist)"
   ]
  },
  {
   "cell_type": "code",
   "execution_count": 82,
   "id": "9b47f942-0141-45cd-b0c0-c4b16f87f7c4",
   "metadata": {},
   "outputs": [],
   "source": [
    "#l6=bf[\"Wrist\"]\n",
    "#l6"
   ]
  },
  {
   "cell_type": "code",
   "execution_count": 83,
   "id": "6fbabb85-6c54-4c08-bc31-08d072ddb8ca",
   "metadata": {},
   "outputs": [],
   "source": [
    "#outliers=[]\n",
    "#def detect_outlier(l6):\n",
    "# mean=np.mean(l6)\n",
    "# std=np.std(l6)\n",
    "# for i in l1:\n",
    "#     z_score=(i-mean)/std\n",
    "# if np.abs(z_score)>threshold:\n",
    "#    outliers.append(i)\n",
    "# return outliers\n",
    "# detect_outlier(l6)"
   ]
  },
  {
   "cell_type": "code",
   "execution_count": 84,
   "id": "28b93ca6-a5a5-4f98-8f78-f2fb83a50008",
   "metadata": {},
   "outputs": [],
   "source": [
    "#ub=bf[\"Wrist\"].mean()+3*bf[\"Wrist\"].std()\n",
    "#lb=bf[\"Wrist\"].mean()-3*bf[\"Wrist\"].std()\n",
    "#print(ub,lb)"
   ]
  },
  {
   "cell_type": "code",
   "execution_count": 85,
   "id": "8355af4a-6c9e-4a50-a8dd-4b0a534d19cf",
   "metadata": {},
   "outputs": [],
   "source": [
    "#bf[\"Wrist\"].describe()"
   ]
  },
  {
   "cell_type": "code",
   "execution_count": 86,
   "id": "42f4a539-b9d2-453c-92a6-d1727bd180a3",
   "metadata": {},
   "outputs": [],
   "source": [
    "#bf.loc[bf[\"Wrist\"]>ub,\"Wrist\"]=ub\n",
    "#sns.boxplot(data=bf,y=\"Wrist\")"
   ]
  },
  {
   "cell_type": "markdown",
   "id": "3ba933ca-9f87-4278-8bab-ef74c5779aed",
   "metadata": {},
   "source": [
    "skewness treatment::"
   ]
  },
  {
   "cell_type": "code",
   "execution_count": 88,
   "id": "1a57bcd5-dc5c-4f80-8faf-619a7414144b",
   "metadata": {},
   "outputs": [],
   "source": [
    "#bf.Wrist.skew()"
   ]
  },
  {
   "cell_type": "code",
   "execution_count": 89,
   "id": "51f91bd1-deae-4d8d-9da1-9189e59554ea",
   "metadata": {},
   "outputs": [],
   "source": [
    "#import numpy as np\n",
    "#np.log(0)"
   ]
  },
  {
   "cell_type": "code",
   "execution_count": 90,
   "id": "19d58430-b087-4efe-9a15-e5211f63426f",
   "metadata": {},
   "outputs": [],
   "source": [
    "#bf_new=bf[bf.Wrist>0]"
   ]
  },
  {
   "cell_type": "code",
   "execution_count": 91,
   "id": "2e8a3d54-1e6d-4cbf-a1ac-26a089d66504",
   "metadata": {},
   "outputs": [],
   "source": [
    "#bf[\"Wrist\"]=np.log(bf[\"Wrist\"])\n",
    "#bf.Wrist.skew()"
   ]
  },
  {
   "cell_type": "code",
   "execution_count": 92,
   "id": "27edd74f-3c5d-44cc-8ffc-e613f6b12dee",
   "metadata": {},
   "outputs": [],
   "source": [
    "#IQR=bf.Wrist.quantile(0.75)-bf.Wrist.quantile(0.25)\n",
    "#L1=bf[\"Wrist\"].quantile(0.25)-(IQR*3)\n",
    "#U1=bf[\"Wrist\"].quantile(0.75)+(IQR*3)\n",
    "#print(L1,U1)"
   ]
  },
  {
   "cell_type": "code",
   "execution_count": 93,
   "id": "953c0f37-63a7-4774-8336-df7f24fa9849",
   "metadata": {},
   "outputs": [],
   "source": [
    "#bf.loc[bf[\"Wrist\"]>U1,\"Wrist\"]=U1\n",
    "#sns.distplot(bf.Wrist)"
   ]
  },
  {
   "cell_type": "code",
   "execution_count": 94,
   "id": "f6e77ca5-6685-4f8b-916d-2ce81871518e",
   "metadata": {},
   "outputs": [
    {
     "data": {
      "text/html": [
       "<div>\n",
       "<style scoped>\n",
       "    .dataframe tbody tr th:only-of-type {\n",
       "        vertical-align: middle;\n",
       "    }\n",
       "\n",
       "    .dataframe tbody tr th {\n",
       "        vertical-align: top;\n",
       "    }\n",
       "\n",
       "    .dataframe thead th {\n",
       "        text-align: right;\n",
       "    }\n",
       "</style>\n",
       "<table border=\"1\" class=\"dataframe\">\n",
       "  <thead>\n",
       "    <tr style=\"text-align: right;\">\n",
       "      <th></th>\n",
       "      <th>Bodyfat</th>\n",
       "      <th>Age</th>\n",
       "      <th>Weight</th>\n",
       "      <th>Height</th>\n",
       "      <th>Neck</th>\n",
       "      <th>Chest</th>\n",
       "      <th>Abdomen</th>\n",
       "      <th>Ankle</th>\n",
       "      <th>Biceps</th>\n",
       "      <th>Wrist</th>\n",
       "    </tr>\n",
       "  </thead>\n",
       "  <tbody>\n",
       "    <tr>\n",
       "      <th>Bodyfat</th>\n",
       "      <td>1.000000</td>\n",
       "      <td>0.258009</td>\n",
       "      <td>0.594410</td>\n",
       "      <td>0.013586</td>\n",
       "      <td>0.503245</td>\n",
       "      <td>0.679451</td>\n",
       "      <td>0.810564</td>\n",
       "      <td>0.361924</td>\n",
       "      <td>0.411750</td>\n",
       "      <td>0.313155</td>\n",
       "    </tr>\n",
       "    <tr>\n",
       "      <th>Age</th>\n",
       "      <td>0.258009</td>\n",
       "      <td>1.000000</td>\n",
       "      <td>-0.096068</td>\n",
       "      <td>-0.281787</td>\n",
       "      <td>0.038501</td>\n",
       "      <td>0.071956</td>\n",
       "      <td>0.143258</td>\n",
       "      <td>-0.071789</td>\n",
       "      <td>-0.081546</td>\n",
       "      <td>0.229862</td>\n",
       "    </tr>\n",
       "    <tr>\n",
       "      <th>Weight</th>\n",
       "      <td>0.594410</td>\n",
       "      <td>-0.096068</td>\n",
       "      <td>1.000000</td>\n",
       "      <td>0.559848</td>\n",
       "      <td>0.839060</td>\n",
       "      <td>0.915873</td>\n",
       "      <td>0.888621</td>\n",
       "      <td>0.760633</td>\n",
       "      <td>0.775077</td>\n",
       "      <td>0.684129</td>\n",
       "    </tr>\n",
       "    <tr>\n",
       "      <th>Height</th>\n",
       "      <td>0.013586</td>\n",
       "      <td>-0.281787</td>\n",
       "      <td>0.559848</td>\n",
       "      <td>1.000000</td>\n",
       "      <td>0.370575</td>\n",
       "      <td>0.336954</td>\n",
       "      <td>0.256389</td>\n",
       "      <td>0.413281</td>\n",
       "      <td>0.432471</td>\n",
       "      <td>0.368597</td>\n",
       "    </tr>\n",
       "    <tr>\n",
       "      <th>Neck</th>\n",
       "      <td>0.503245</td>\n",
       "      <td>0.038501</td>\n",
       "      <td>0.839060</td>\n",
       "      <td>0.370575</td>\n",
       "      <td>1.000000</td>\n",
       "      <td>0.790195</td>\n",
       "      <td>0.768711</td>\n",
       "      <td>0.621222</td>\n",
       "      <td>0.687215</td>\n",
       "      <td>0.717346</td>\n",
       "    </tr>\n",
       "    <tr>\n",
       "      <th>Chest</th>\n",
       "      <td>0.679451</td>\n",
       "      <td>0.071956</td>\n",
       "      <td>0.915873</td>\n",
       "      <td>0.336954</td>\n",
       "      <td>0.790195</td>\n",
       "      <td>1.000000</td>\n",
       "      <td>0.921410</td>\n",
       "      <td>0.674658</td>\n",
       "      <td>0.715878</td>\n",
       "      <td>0.627330</td>\n",
       "    </tr>\n",
       "    <tr>\n",
       "      <th>Abdomen</th>\n",
       "      <td>0.810564</td>\n",
       "      <td>0.143258</td>\n",
       "      <td>0.888621</td>\n",
       "      <td>0.256389</td>\n",
       "      <td>0.768711</td>\n",
       "      <td>0.921410</td>\n",
       "      <td>1.000000</td>\n",
       "      <td>0.627490</td>\n",
       "      <td>0.641225</td>\n",
       "      <td>0.612704</td>\n",
       "    </tr>\n",
       "    <tr>\n",
       "      <th>Ankle</th>\n",
       "      <td>0.361924</td>\n",
       "      <td>-0.071789</td>\n",
       "      <td>0.760633</td>\n",
       "      <td>0.413281</td>\n",
       "      <td>0.621222</td>\n",
       "      <td>0.674658</td>\n",
       "      <td>0.627490</td>\n",
       "      <td>1.000000</td>\n",
       "      <td>0.609673</td>\n",
       "      <td>0.635444</td>\n",
       "    </tr>\n",
       "    <tr>\n",
       "      <th>Biceps</th>\n",
       "      <td>0.411750</td>\n",
       "      <td>-0.081546</td>\n",
       "      <td>0.775077</td>\n",
       "      <td>0.432471</td>\n",
       "      <td>0.687215</td>\n",
       "      <td>0.715878</td>\n",
       "      <td>0.641225</td>\n",
       "      <td>0.609673</td>\n",
       "      <td>1.000000</td>\n",
       "      <td>0.579375</td>\n",
       "    </tr>\n",
       "    <tr>\n",
       "      <th>Wrist</th>\n",
       "      <td>0.313155</td>\n",
       "      <td>0.229862</td>\n",
       "      <td>0.684129</td>\n",
       "      <td>0.368597</td>\n",
       "      <td>0.717346</td>\n",
       "      <td>0.627330</td>\n",
       "      <td>0.612704</td>\n",
       "      <td>0.635444</td>\n",
       "      <td>0.579375</td>\n",
       "      <td>1.000000</td>\n",
       "    </tr>\n",
       "  </tbody>\n",
       "</table>\n",
       "</div>"
      ],
      "text/plain": [
       "          Bodyfat       Age    Weight    Height      Neck     Chest   Abdomen  \\\n",
       "Bodyfat  1.000000  0.258009  0.594410  0.013586  0.503245  0.679451  0.810564   \n",
       "Age      0.258009  1.000000 -0.096068 -0.281787  0.038501  0.071956  0.143258   \n",
       "Weight   0.594410 -0.096068  1.000000  0.559848  0.839060  0.915873  0.888621   \n",
       "Height   0.013586 -0.281787  0.559848  1.000000  0.370575  0.336954  0.256389   \n",
       "Neck     0.503245  0.038501  0.839060  0.370575  1.000000  0.790195  0.768711   \n",
       "Chest    0.679451  0.071956  0.915873  0.336954  0.790195  1.000000  0.921410   \n",
       "Abdomen  0.810564  0.143258  0.888621  0.256389  0.768711  0.921410  1.000000   \n",
       "Ankle    0.361924 -0.071789  0.760633  0.413281  0.621222  0.674658  0.627490   \n",
       "Biceps   0.411750 -0.081546  0.775077  0.432471  0.687215  0.715878  0.641225   \n",
       "Wrist    0.313155  0.229862  0.684129  0.368597  0.717346  0.627330  0.612704   \n",
       "\n",
       "            Ankle    Biceps     Wrist  \n",
       "Bodyfat  0.361924  0.411750  0.313155  \n",
       "Age     -0.071789 -0.081546  0.229862  \n",
       "Weight   0.760633  0.775077  0.684129  \n",
       "Height   0.413281  0.432471  0.368597  \n",
       "Neck     0.621222  0.687215  0.717346  \n",
       "Chest    0.674658  0.715878  0.627330  \n",
       "Abdomen  0.627490  0.641225  0.612704  \n",
       "Ankle    1.000000  0.609673  0.635444  \n",
       "Biceps   0.609673  1.000000  0.579375  \n",
       "Wrist    0.635444  0.579375  1.000000  "
      ]
     },
     "execution_count": 94,
     "metadata": {},
     "output_type": "execute_result"
    }
   ],
   "source": [
    "data1=bf.corr()\n",
    "data1"
   ]
  },
  {
   "cell_type": "code",
   "execution_count": 95,
   "id": "3f3d79cd-60f0-452f-ae26-8b28bebb0c08",
   "metadata": {},
   "outputs": [
    {
     "data": {
      "image/png": "[encoded data removed]",
      "text/plain": [
       "<Figure size 640x480 with 2 Axes>"
      ]
     },
     "metadata": {},
     "output_type": "display_data"
    }
   ],
   "source": [
    "import seaborn as sns\n",
    "import matplotlib.pyplot as plt\n",
    "sns.heatmap(data1)\n",
    "plt.show()"
   ]
  },
  {
   "cell_type": "markdown",
   "id": "60a34a18-1bba-417e-b109-523cfb8449cc",
   "metadata": {},
   "source": [
    "Model Building ::"
   ]
  },
  {
   "cell_type": "code",
   "execution_count": 97,
   "id": "7311b538-399c-499b-9d2d-d0ac92be727e",
   "metadata": {},
   "outputs": [],
   "source": [
    "x=bf.iloc[:,2:]"
   ]
  },
  {
   "cell_type": "code",
   "execution_count": 98,
   "id": "7cfd9bd7-9537-4c4a-b97c-bcc24f4819e0",
   "metadata": {},
   "outputs": [
    {
     "data": {
      "text/plain": [
       "(100, 8)"
      ]
     },
     "execution_count": 98,
     "metadata": {},
     "output_type": "execute_result"
    }
   ],
   "source": [
    "x.head()\n",
    "x.shape"
   ]
  },
  {
   "cell_type": "code",
   "execution_count": 99,
   "id": "25edbc10-cffa-4811-9523-376e3258ff9b",
   "metadata": {},
   "outputs": [],
   "source": [
    "y=bf.iloc[:,1]"
   ]
  },
  {
   "cell_type": "code",
   "execution_count": 100,
   "id": "e77eca79-50d2-4cbd-ba05-1bfffa36bc9a",
   "metadata": {},
   "outputs": [
    {
     "data": {
      "text/plain": [
       "(100,)"
      ]
     },
     "execution_count": 100,
     "metadata": {},
     "output_type": "execute_result"
    }
   ],
   "source": [
    "y.head()\n",
    "y.shape"
   ]
  },
  {
   "cell_type": "code",
   "execution_count": 101,
   "id": "469f6d1b-df19-4cb4-969c-8a4eeb338538",
   "metadata": {},
   "outputs": [],
   "source": [
    "import sklearn\n",
    "from sklearn.model_selection import train_test_split"
   ]
  },
  {
   "cell_type": "code",
   "execution_count": 102,
   "id": "0835fb4b-502b-4286-9934-e9bdd1100a69",
   "metadata": {},
   "outputs": [],
   "source": [
    "x_train,x_test,y_train,y_test=train_test_split(x,y,test_size=0.3,random_state=120)"
   ]
  },
  {
   "cell_type": "code",
   "execution_count": 103,
   "id": "896ad56e-936b-4f77-a2e1-5334a1552742",
   "metadata": {},
   "outputs": [
    {
     "data": {
      "text/plain": [
       "((70, 8), (30, 8), (70,), (30,))"
      ]
     },
     "execution_count": 103,
     "metadata": {},
     "output_type": "execute_result"
    }
   ],
   "source": [
    "x_train.shape,x_test.shape,y_train.shape,y_test.shape"
   ]
  },
  {
   "cell_type": "code",
   "execution_count": 104,
   "id": "e63b9cee-adce-4a9e-8e99-8ea40104ef9d",
   "metadata": {},
   "outputs": [],
   "source": [
    "from sklearn import linear_model\n",
    "linear=linear_model.LinearRegression()"
   ]
  },
  {
   "cell_type": "code",
   "execution_count": 105,
   "id": "bd93d805-c17f-4fd4-8518-ac9ae2029367",
   "metadata": {},
   "outputs": [
    {
     "data": {
      "text/html": [
       "<style>#sk-container-id-1 {\n",
       "  /* Definition of color scheme common for light and dark mode */\n",
       "  --sklearn-color-text: black;\n",
       "  --sklearn-color-line: gray;\n",
       "  /* Definition of color scheme for unfitted estimators */\n",
       "  --sklearn-color-unfitted-level-0: #fff5e6;\n",
       "  --sklearn-color-unfitted-level-1: #f6e4d2;\n",
       "  --sklearn-color-unfitted-level-2: #ffe0b3;\n",
       "  --sklearn-color-unfitted-level-3: chocolate;\n",
       "  /* Definition of color scheme for fitted estimators */\n",
       "  --sklearn-color-fitted-level-0: #f0f8ff;\n",
       "  --sklearn-color-fitted-level-1: #d4ebff;\n",
       "  --sklearn-color-fitted-level-2: #b3dbfd;\n",
       "  --sklearn-color-fitted-level-3: cornflowerblue;\n",
       "\n",
       "  /* Specific color for light theme */\n",
       "  --sklearn-color-text-on-default-background: var(--sg-text-color, var(--theme-code-foreground, var(--jp-content-font-color1, black)));\n",
       "  --sklearn-color-background: var(--sg-background-color, var(--theme-background, var(--jp-layout-color0, white)));\n",
       "  --sklearn-color-border-box: var(--sg-text-color, var(--theme-code-foreground, var(--jp-content-font-color1, black)));\n",
       "  --sklearn-color-icon: #696969;\n",
       "\n",
       "  @media (prefers-color-scheme: dark) {\n",
       "    /* Redefinition of color scheme for dark theme */\n",
       "    --sklearn-color-text-on-default-background: var(--sg-text-color, var(--theme-code-foreground, var(--jp-content-font-color1, white)));\n",
       "    --sklearn-color-background: var(--sg-background-color, var(--theme-background, var(--jp-layout-color0, #111)));\n",
       "    --sklearn-color-border-box: var(--sg-text-color, var(--theme-code-foreground, var(--jp-content-font-color1, white)));\n",
       "    --sklearn-color-icon: #878787;\n",
       "  }\n",
       "}\n",
       "\n",
       "#sk-container-id-1 {\n",
       "  color: var(--sklearn-color-text);\n",
       "}\n",
       "\n",
       "#sk-container-id-1 pre {\n",
       "  padding: 0;\n",
       "}\n",
       "\n",
       "#sk-container-id-1 input.sk-hidden--visually {\n",
       "  border: 0;\n",
       "  clip: rect(1px 1px 1px 1px);\n",
       "  clip: rect(1px, 1px, 1px, 1px);\n",
       "  height: 1px;\n",
       "  margin: -1px;\n",
       "  overflow: hidden;\n",
       "  padding: 0;\n",
       "  position: absolute;\n",
       "  width: 1px;\n",
       "}\n",
       "\n",
       "#sk-container-id-1 div.sk-dashed-wrapped {\n",
       "  border: 1px dashed var(--sklearn-color-line);\n",
       "  margin: 0 0.4em 0.5em 0.4em;\n",
       "  box-sizing: border-box;\n",
       "  padding-bottom: 0.4em;\n",
       "  background-color: var(--sklearn-color-background);\n",
       "}\n",
       "\n",
       "#sk-container-id-1 div.sk-container {\n",
       "  /* jupyter's `normalize.less` sets `[hidden] { display: none; }`\n",
       "     but bootstrap.min.css set `[hidden] { display: none !important; }`\n",
       "     so we also need the `!important` here to be able to override the\n",
       "     default hidden behavior on the sphinx rendered scikit-learn.org.\n",
       "     See: https://github.com/scikit-learn/scikit-learn/issues/21755 */\n",
       "  display: inline-block !important;\n",
       "  position: relative;\n",
       "}\n",
       "\n",
       "#sk-container-id-1 div.sk-text-repr-fallback {\n",
       "  display: none;\n",
       "}\n",
       "\n",
       "div.sk-parallel-item,\n",
       "div.sk-serial,\n",
       "div.sk-item {\n",
       "  /* draw centered vertical line to link estimators */\n",
       "  background-image: linear-gradient(var(--sklearn-color-text-on-default-background), var(--sklearn-color-text-on-default-background));\n",
       "  background-size: 2px 100%;\n",
       "  background-repeat: no-repeat;\n",
       "  background-position: center center;\n",
       "}\n",
       "\n",
       "/* Parallel-specific style estimator block */\n",
       "\n",
       "#sk-container-id-1 div.sk-parallel-item::after {\n",
       "  content: \"\";\n",
       "  width: 100%;\n",
       "  border-bottom: 2px solid var(--sklearn-color-text-on-default-background);\n",
       "  flex-grow: 1;\n",
       "}\n",
       "\n",
       "#sk-container-id-1 div.sk-parallel {\n",
       "  display: flex;\n",
       "  align-items: stretch;\n",
       "  justify-content: center;\n",
       "  background-color: var(--sklearn-color-background);\n",
       "  position: relative;\n",
       "}\n",
       "\n",
       "#sk-container-id-1 div.sk-parallel-item {\n",
       "  display: flex;\n",
       "  flex-direction: column;\n",
       "}\n",
       "\n",
       "#sk-container-id-1 div.sk-parallel-item:first-child::after {\n",
       "  align-self: flex-end;\n",
       "  width: 50%;\n",
       "}\n",
       "\n",
       "#sk-container-id-1 div.sk-parallel-item:last-child::after {\n",
       "  align-self: flex-start;\n",
       "  width: 50%;\n",
       "}\n",
       "\n",
       "#sk-container-id-1 div.sk-parallel-item:only-child::after {\n",
       "  width: 0;\n",
       "}\n",
       "\n",
       "/* Serial-specific style estimator block */\n",
       "\n",
       "#sk-container-id-1 div.sk-serial {\n",
       "  display: flex;\n",
       "  flex-direction: column;\n",
       "  align-items: center;\n",
       "  background-color: var(--sklearn-color-background);\n",
       "  padding-right: 1em;\n",
       "  padding-left: 1em;\n",
       "}\n",
       "\n",
       "\n",
       "/* Toggleable style: style used for estimator/Pipeline/ColumnTransformer box that is\n",
       "clickable and can be expanded/collapsed.\n",
       "- Pipeline and ColumnTransformer use this feature and define the default style\n",
       "- Estimators will overwrite some part of the style using the `sk-estimator` class\n",
       "*/\n",
       "\n",
       "/* Pipeline and ColumnTransformer style (default) */\n",
       "\n",
       "#sk-container-id-1 div.sk-toggleable {\n",
       "  /* Default theme specific background. It is overwritten whether we have a\n",
       "  specific estimator or a Pipeline/ColumnTransformer */\n",
       "  background-color: var(--sklearn-color-background);\n",
       "}\n",
       "\n",
       "/* Toggleable label */\n",
       "#sk-container-id-1 label.sk-toggleable__label {\n",
       "  cursor: pointer;\n",
       "  display: block;\n",
       "  width: 100%;\n",
       "  margin-bottom: 0;\n",
       "  padding: 0.5em;\n",
       "  box-sizing: border-box;\n",
       "  text-align: center;\n",
       "}\n",
       "\n",
       "#sk-container-id-1 label.sk-toggleable__label-arrow:before {\n",
       "  /* Arrow on the left of the label */\n",
       "  content: \"▸\";\n",
       "  float: left;\n",
       "  margin-right: 0.25em;\n",
       "  color: var(--sklearn-color-icon);\n",
       "}\n",
       "\n",
       "#sk-container-id-1 label.sk-toggleable__label-arrow:hover:before {\n",
       "  color: var(--sklearn-color-text);\n",
       "}\n",
       "\n",
       "/* Toggleable content - dropdown */\n",
       "\n",
       "#sk-container-id-1 div.sk-toggleable__content {\n",
       "  max-height: 0;\n",
       "  max-width: 0;\n",
       "  overflow: hidden;\n",
       "  text-align: left;\n",
       "  /* unfitted */\n",
       "  background-color: var(--sklearn-color-unfitted-level-0);\n",
       "}\n",
       "\n",
       "#sk-container-id-1 div.sk-toggleable__content.fitted {\n",
       "  /* fitted */\n",
       "  background-color: var(--sklearn-color-fitted-level-0);\n",
       "}\n",
       "\n",
       "#sk-container-id-1 div.sk-toggleable__content pre {\n",
       "  margin: 0.2em;\n",
       "  border-radius: 0.25em;\n",
       "  color: var(--sklearn-color-text);\n",
       "  /* unfitted */\n",
       "  background-color: var(--sklearn-color-unfitted-level-0);\n",
       "}\n",
       "\n",
       "#sk-container-id-1 div.sk-toggleable__content.fitted pre {\n",
       "  /* unfitted */\n",
       "  background-color: var(--sklearn-color-fitted-level-0);\n",
       "}\n",
       "\n",
       "#sk-container-id-1 input.sk-toggleable__control:checked~div.sk-toggleable__content {\n",
       "  /* Expand drop-down */\n",
       "  max-height: 200px;\n",
       "  max-width: 100%;\n",
       "  overflow: auto;\n",
       "}\n",
       "\n",
       "#sk-container-id-1 input.sk-toggleable__control:checked~label.sk-toggleable__label-arrow:before {\n",
       "  content: \"▾\";\n",
       "}\n",
       "\n",
       "/* Pipeline/ColumnTransformer-specific style */\n",
       "\n",
       "#sk-container-id-1 div.sk-label input.sk-toggleable__control:checked~label.sk-toggleable__label {\n",
       "  color: var(--sklearn-color-text);\n",
       "  background-color: var(--sklearn-color-unfitted-level-2);\n",
       "}\n",
       "\n",
       "#sk-container-id-1 div.sk-label.fitted input.sk-toggleable__control:checked~label.sk-toggleable__label {\n",
       "  background-color: var(--sklearn-color-fitted-level-2);\n",
       "}\n",
       "\n",
       "/* Estimator-specific style */\n",
       "\n",
       "/* Colorize estimator box */\n",
       "#sk-container-id-1 div.sk-estimator input.sk-toggleable__control:checked~label.sk-toggleable__label {\n",
       "  /* unfitted */\n",
       "  background-color: var(--sklearn-color-unfitted-level-2);\n",
       "}\n",
       "\n",
       "#sk-container-id-1 div.sk-estimator.fitted input.sk-toggleable__control:checked~label.sk-toggleable__label {\n",
       "  /* fitted */\n",
       "  background-color: var(--sklearn-color-fitted-level-2);\n",
       "}\n",
       "\n",
       "#sk-container-id-1 div.sk-label label.sk-toggleable__label,\n",
       "#sk-container-id-1 div.sk-label label {\n",
       "  /* The background is the default theme color */\n",
       "  color: var(--sklearn-color-text-on-default-background);\n",
       "}\n",
       "\n",
       "/* On hover, darken the color of the background */\n",
       "#sk-container-id-1 div.sk-label:hover label.sk-toggleable__label {\n",
       "  color: var(--sklearn-color-text);\n",
       "  background-color: var(--sklearn-color-unfitted-level-2);\n",
       "}\n",
       "\n",
       "/* Label box, darken color on hover, fitted */\n",
       "#sk-container-id-1 div.sk-label.fitted:hover label.sk-toggleable__label.fitted {\n",
       "  color: var(--sklearn-color-text);\n",
       "  background-color: var(--sklearn-color-fitted-level-2);\n",
       "}\n",
       "\n",
       "/* Estimator label */\n",
       "\n",
       "#sk-container-id-1 div.sk-label label {\n",
       "  font-family: monospace;\n",
       "  font-weight: bold;\n",
       "  display: inline-block;\n",
       "  line-height: 1.2em;\n",
       "}\n",
       "\n",
       "#sk-container-id-1 div.sk-label-container {\n",
       "  text-align: center;\n",
       "}\n",
       "\n",
       "/* Estimator-specific */\n",
       "#sk-container-id-1 div.sk-estimator {\n",
       "  font-family: monospace;\n",
       "  border: 1px dotted var(--sklearn-color-border-box);\n",
       "  border-radius: 0.25em;\n",
       "  box-sizing: border-box;\n",
       "  margin-bottom: 0.5em;\n",
       "  /* unfitted */\n",
       "  background-color: var(--sklearn-color-unfitted-level-0);\n",
       "}\n",
       "\n",
       "#sk-container-id-1 div.sk-estimator.fitted {\n",
       "  /* fitted */\n",
       "  background-color: var(--sklearn-color-fitted-level-0);\n",
       "}\n",
       "\n",
       "/* on hover */\n",
       "#sk-container-id-1 div.sk-estimator:hover {\n",
       "  /* unfitted */\n",
       "  background-color: var(--sklearn-color-unfitted-level-2);\n",
       "}\n",
       "\n",
       "#sk-container-id-1 div.sk-estimator.fitted:hover {\n",
       "  /* fitted */\n",
       "  background-color: var(--sklearn-color-fitted-level-2);\n",
       "}\n",
       "\n",
       "/* Specification for estimator info (e.g. \"i\" and \"?\") */\n",
       "\n",
       "/* Common style for \"i\" and \"?\" */\n",
       "\n",
       ".sk-estimator-doc-link,\n",
       "a:link.sk-estimator-doc-link,\n",
       "a:visited.sk-estimator-doc-link {\n",
       "  float: right;\n",
       "  font-size: smaller;\n",
       "  line-height: 1em;\n",
       "  font-family: monospace;\n",
       "  background-color: var(--sklearn-color-background);\n",
       "  border-radius: 1em;\n",
       "  height: 1em;\n",
       "  width: 1em;\n",
       "  text-decoration: none !important;\n",
       "  margin-left: 1ex;\n",
       "  /* unfitted */\n",
       "  border: var(--sklearn-color-unfitted-level-1) 1pt solid;\n",
       "  color: var(--sklearn-color-unfitted-level-1);\n",
       "}\n",
       "\n",
       ".sk-estimator-doc-link.fitted,\n",
       "a:link.sk-estimator-doc-link.fitted,\n",
       "a:visited.sk-estimator-doc-link.fitted {\n",
       "  /* fitted */\n",
       "  border: var(--sklearn-color-fitted-level-1) 1pt solid;\n",
       "  color: var(--sklearn-color-fitted-level-1);\n",
       "}\n",
       "\n",
       "/* On hover */\n",
       "div.sk-estimator:hover .sk-estimator-doc-link:hover,\n",
       ".sk-estimator-doc-link:hover,\n",
       "div.sk-label-container:hover .sk-estimator-doc-link:hover,\n",
       ".sk-estimator-doc-link:hover {\n",
       "  /* unfitted */\n",
       "  background-color: var(--sklearn-color-unfitted-level-3);\n",
       "  color: var(--sklearn-color-background);\n",
       "  text-decoration: none;\n",
       "}\n",
       "\n",
       "div.sk-estimator.fitted:hover .sk-estimator-doc-link.fitted:hover,\n",
       ".sk-estimator-doc-link.fitted:hover,\n",
       "div.sk-label-container:hover .sk-estimator-doc-link.fitted:hover,\n",
       ".sk-estimator-doc-link.fitted:hover {\n",
       "  /* fitted */\n",
       "  background-color: var(--sklearn-color-fitted-level-3);\n",
       "  color: var(--sklearn-color-background);\n",
       "  text-decoration: none;\n",
       "}\n",
       "\n",
       "/* Span, style for the box shown on hovering the info icon */\n",
       ".sk-estimator-doc-link span {\n",
       "  display: none;\n",
       "  z-index: 9999;\n",
       "  position: relative;\n",
       "  font-weight: normal;\n",
       "  right: .2ex;\n",
       "  padding: .5ex;\n",
       "  margin: .5ex;\n",
       "  width: min-content;\n",
       "  min-width: 20ex;\n",
       "  max-width: 50ex;\n",
       "  color: var(--sklearn-color-text);\n",
       "  box-shadow: 2pt 2pt 4pt #999;\n",
       "  /* unfitted */\n",
       "  background: var(--sklearn-color-unfitted-level-0);\n",
       "  border: .5pt solid var(--sklearn-color-unfitted-level-3);\n",
       "}\n",
       "\n",
       ".sk-estimator-doc-link.fitted span {\n",
       "  /* fitted */\n",
       "  background: var(--sklearn-color-fitted-level-0);\n",
       "  border: var(--sklearn-color-fitted-level-3);\n",
       "}\n",
       "\n",
       ".sk-estimator-doc-link:hover span {\n",
       "  display: block;\n",
       "}\n",
       "\n",
       "/* \"?\"-specific style due to the `<a>` HTML tag */\n",
       "\n",
       "#sk-container-id-1 a.estimator_doc_link {\n",
       "  float: right;\n",
       "  font-size: 1rem;\n",
       "  line-height: 1em;\n",
       "  font-family: monospace;\n",
       "  background-color: var(--sklearn-color-background);\n",
       "  border-radius: 1rem;\n",
       "  height: 1rem;\n",
       "  width: 1rem;\n",
       "  text-decoration: none;\n",
       "  /* unfitted */\n",
       "  color: var(--sklearn-color-unfitted-level-1);\n",
       "  border: var(--sklearn-color-unfitted-level-1) 1pt solid;\n",
       "}\n",
       "\n",
       "#sk-container-id-1 a.estimator_doc_link.fitted {\n",
       "  /* fitted */\n",
       "  border: var(--sklearn-color-fitted-level-1) 1pt solid;\n",
       "  color: var(--sklearn-color-fitted-level-1);\n",
       "}\n",
       "\n",
       "/* On hover */\n",
       "#sk-container-id-1 a.estimator_doc_link:hover {\n",
       "  /* unfitted */\n",
       "  background-color: var(--sklearn-color-unfitted-level-3);\n",
       "  color: var(--sklearn-color-background);\n",
       "  text-decoration: none;\n",
       "}\n",
       "\n",
       "#sk-container-id-1 a.estimator_doc_link.fitted:hover {\n",
       "  /* fitted */\n",
       "  background-color: var(--sklearn-color-fitted-level-3);\n",
       "}\n",
       "</style><div id=\"sk-container-id-1\" class=\"sk-top-container\"><div class=\"sk-text-repr-fallback\"><pre>LinearRegression()</pre><b>In a Jupyter environment, please rerun this cell to show the HTML representation or trust the notebook. <br />On GitHub, the HTML representation is unable to render, please try loading this page with nbviewer.org.</b></div><div class=\"sk-container\" hidden><div class=\"sk-item\"><div class=\"sk-estimator fitted sk-toggleable\"><input class=\"sk-toggleable__control sk-hidden--visually\" id=\"sk-estimator-id-1\" type=\"checkbox\" checked><label for=\"sk-estimator-id-1\" class=\"sk-toggleable__label fitted sk-toggleable__label-arrow fitted\">&nbsp;&nbsp;LinearRegression<a class=\"sk-estimator-doc-link fitted\" rel=\"noreferrer\" target=\"_blank\" href=\"https://scikit-learn.org/1.4/modules/generated/sklearn.linear_model.LinearRegression.html\">?<span>Documentation for LinearRegression</span></a><span class=\"sk-estimator-doc-link fitted\">i<span>Fitted</span></span></label><div class=\"sk-toggleable__content fitted\"><pre>LinearRegression()</pre></div> </div></div></div></div>"
      ],
      "text/plain": [
       "LinearRegression()"
      ]
     },
     "execution_count": 105,
     "metadata": {},
     "output_type": "execute_result"
    }
   ],
   "source": [
    "linear.fit(x_train,y_train)"
   ]
  },
  {
   "cell_type": "code",
   "execution_count": 106,
   "id": "f9eb7b32-e518-4dd0-9dc6-da5b69c20d4a",
   "metadata": {},
   "outputs": [
    {
     "data": {
      "text/plain": [
       "array([52.65047298, 45.13735344, 49.62442585, 44.71575744, 37.77493246,\n",
       "       40.7160107 , 43.33901375, 48.29156205, 40.80347682, 46.77361189,\n",
       "       45.81648936, 34.23234957, 26.51440517, 34.68288915, 42.24188288,\n",
       "       46.6052947 , 47.2198357 , 52.17366233, 42.39924791, 48.37491232,\n",
       "       58.98407923, 41.35788739, 39.69475376, 38.68019925, 48.20159051,\n",
       "       29.1144535 , 43.86296699, 42.17816644, 48.54426454, 59.66697082])"
      ]
     },
     "execution_count": 106,
     "metadata": {},
     "output_type": "execute_result"
    }
   ],
   "source": [
    "pred=linear.predict(x_test)\n",
    "pred"
   ]
  },
  {
   "cell_type": "code",
   "execution_count": 107,
   "id": "f3aed695-cb65-4a0d-a3c1-c189ec4fd1b3",
   "metadata": {},
   "outputs": [
    {
     "data": {
      "text/plain": [
       "array([-0.72667491,  0.52792242,  0.32219578,  0.65015133,  1.08743366,\n",
       "        0.11508879, -0.05331096,  5.82014999])"
      ]
     },
     "execution_count": 107,
     "metadata": {},
     "output_type": "execute_result"
    }
   ],
   "source": [
    "linear.coef_"
   ]
  },
  {
   "cell_type": "code",
   "execution_count": 108,
   "id": "3e20e932-b03d-473e-bd45-4ac568c615f6",
   "metadata": {},
   "outputs": [
    {
     "data": {
      "text/plain": [
       "-147.5152860302296"
      ]
     },
     "execution_count": 108,
     "metadata": {},
     "output_type": "execute_result"
    }
   ],
   "source": [
    "linear.intercept_"
   ]
  },
  {
   "cell_type": "code",
   "execution_count": 109,
   "id": "3628889d-bb2b-4523-841f-3a41ed9516fa",
   "metadata": {},
   "outputs": [
    {
     "data": {
      "text/plain": [
       "0.4511476913155318"
      ]
     },
     "execution_count": 109,
     "metadata": {},
     "output_type": "execute_result"
    }
   ],
   "source": [
    "R2=linear.score(x_train,y_train)\n",
    "R2"
   ]
  },
  {
   "cell_type": "code",
   "execution_count": 110,
   "id": "dbb81c17-8286-40c6-852a-0fbba26db27c",
   "metadata": {},
   "outputs": [
    {
     "data": {
      "text/plain": [
       "0.3688198450128616"
      ]
     },
     "execution_count": 110,
     "metadata": {},
     "output_type": "execute_result"
    }
   ],
   "source": [
    "Adj_R2=1-(((1-R2)*(70-1))/(70-9-1))\n",
    "Adj_R2"
   ]
  },
  {
   "cell_type": "code",
   "execution_count": 111,
   "id": "544b2323-9f05-4e92-849d-e8d0c8de2603",
   "metadata": {},
   "outputs": [
    {
     "data": {
      "text/plain": [
       "array([45.28692812, 50.29189233, 62.66232485, 47.80109444, 44.16589162,\n",
       "       66.07150465, 44.50733658, 43.03677248, 47.83742659, 46.56534843,\n",
       "       44.42322187, 26.55963869, 38.21917052, 49.30888986, 48.07599576,\n",
       "       30.49155058, 49.70956138, 44.42930366, 52.99641937, 49.5079675 ,\n",
       "       50.07798217, 44.48798009, 50.62182277, 37.73079417, 47.38273815,\n",
       "       34.06725127, 50.28831462, 44.09756596, 54.15476137, 41.81686739,\n",
       "       37.33014512, 35.91380793, 48.03238718, 36.6653053 , 40.50492922,\n",
       "       52.20068409, 57.47618763, 55.50497877, 49.85558064, 41.16043901,\n",
       "       31.74397499, 40.36561239, 44.75154434, 41.1651845 , 53.57691579,\n",
       "       62.95215596, 55.36208123, 38.26645876, 44.27419123, 43.93634859,\n",
       "       36.16745169, 41.16990187, 46.77974793, 36.11115685, 56.6715379 ,\n",
       "       39.6150717 , 47.06570471, 45.7076915 , 45.37096375, 43.92885079,\n",
       "       53.15513756, 42.89439177, 49.56548721, 51.52850596, 43.60838104,\n",
       "       52.57757538, 40.35236646, 44.79649575, 45.25952555, 58.96082474])"
      ]
     },
     "execution_count": 111,
     "metadata": {},
     "output_type": "execute_result"
    }
   ],
   "source": [
    "pred_train=linear.predict(x_train)\n",
    "pred_train"
   ]
  },
  {
   "cell_type": "code",
   "execution_count": 112,
   "id": "b3eaa1e6-35d7-4791-98d5-58cc58d7c0ec",
   "metadata": {},
   "outputs": [
    {
     "data": {
      "text/plain": [
       "(70,)"
      ]
     },
     "execution_count": 112,
     "metadata": {},
     "output_type": "execute_result"
    }
   ],
   "source": [
    "pred_train.shape"
   ]
  },
  {
   "cell_type": "code",
   "execution_count": 113,
   "id": "7387a0e7-84b2-4f87-afc7-00aa5c8c261f",
   "metadata": {},
   "outputs": [
    {
     "data": {
      "text/plain": [
       "45.98571428571429"
      ]
     },
     "execution_count": 113,
     "metadata": {},
     "output_type": "execute_result"
    }
   ],
   "source": [
    "mean_y=y_train.mean()\n",
    "mean_y"
   ]
  },
  {
   "cell_type": "code",
   "execution_count": 114,
   "id": "60dc5c7f-2020-4d4b-b949-04b1e3bfc89b",
   "metadata": {},
   "outputs": [
    {
     "data": {
      "text/plain": [
       "4798.6078940810385"
      ]
     },
     "execution_count": 114,
     "metadata": {},
     "output_type": "execute_result"
    }
   ],
   "source": [
    "SSE=np.sum(np.square(pred_train-y_train))\n",
    "SSE"
   ]
  },
  {
   "cell_type": "code",
   "execution_count": 115,
   "id": "4e3d94c4-3a35-420c-87dd-e054a68a253a",
   "metadata": {},
   "outputs": [
    {
     "data": {
      "text/plain": [
       "3944.3778202046715"
      ]
     },
     "execution_count": 115,
     "metadata": {},
     "output_type": "execute_result"
    }
   ],
   "source": [
    "SSR=np.sum(np.square(pred_train-mean_y))\n",
    "SSR"
   ]
  },
  {
   "cell_type": "code",
   "execution_count": 116,
   "id": "0aa6445b-8aac-4324-a655-d1a9c6acbc84",
   "metadata": {},
   "outputs": [
    {
     "data": {
      "text/plain": [
       "0.4511476913155315"
      ]
     },
     "execution_count": 116,
     "metadata": {},
     "output_type": "execute_result"
    }
   ],
   "source": [
    "Rsq=SSR/(SSR+SSE)\n",
    "Rsq"
   ]
  },
  {
   "cell_type": "code",
   "execution_count": 117,
   "id": "eb065295-54b8-4e88-9791-16c8f804b950",
   "metadata": {},
   "outputs": [
    {
     "data": {
      "text/plain": [
       "6.916328916598849"
      ]
     },
     "execution_count": 117,
     "metadata": {},
     "output_type": "execute_result"
    }
   ],
   "source": [
    "from sklearn import metrics\n",
    "#MAE-Mean Absolute Error\n",
    "MAE=metrics.mean_absolute_error(pred,y_test)\n",
    "MAE"
   ]
  },
  {
   "cell_type": "code",
   "execution_count": 118,
   "id": "0d08b4c8-5200-4603-ba9b-34a278b495bd",
   "metadata": {},
   "outputs": [
    {
     "data": {
      "text/plain": [
       "79.85177502258928"
      ]
     },
     "execution_count": 118,
     "metadata": {},
     "output_type": "execute_result"
    }
   ],
   "source": [
    "#MSE=Mean Squared Error\n",
    "MSE=metrics.mean_squared_error(pred,y_test)\n",
    "MSE"
   ]
  },
  {
   "cell_type": "code",
   "execution_count": 119,
   "id": "2346049c-8ede-471b-8e93-9542c557b9db",
   "metadata": {},
   "outputs": [
    {
     "data": {
      "text/plain": [
       "8.935982040189499"
      ]
     },
     "execution_count": 119,
     "metadata": {},
     "output_type": "execute_result"
    }
   ],
   "source": [
    "RMSE=np.sqrt(MSE)\n",
    "RMSE"
   ]
  },
  {
   "cell_type": "code",
   "execution_count": 120,
   "id": "2657cfaf-7337-4482-8315-e56957ba17aa",
   "metadata": {},
   "outputs": [
    {
     "data": {
      "text/plain": [
       "80    12.349527\n",
       "38     5.137353\n",
       "5      4.375574\n",
       "61     0.284243\n",
       "93    10.774932\n",
       "66    13.283989\n",
       "41     3.339014\n",
       "65     7.291562\n",
       "3     17.803477\n",
       "72     8.226388\n",
       "32     5.816489\n",
       "55     4.767650\n",
       "87     0.485595\n",
       "35     1.682889\n",
       "12     6.241883\n",
       "16     3.394705\n",
       "31     7.219836\n",
       "78     1.826338\n",
       "36     1.399248\n",
       "18     6.625088\n",
       "57     2.015921\n",
       "64    16.357887\n",
       "40     0.305246\n",
       "51    16.319801\n",
       "29     3.798409\n",
       "42     3.114453\n",
       "90     0.862967\n",
       "86    10.178166\n",
       "85    21.544265\n",
       "25    10.666971\n",
       "Name: Age, dtype: float64"
      ]
     },
     "execution_count": 120,
     "metadata": {},
     "output_type": "execute_result"
    }
   ],
   "source": [
    "#MAPE\n",
    "error=pred-y_test\n",
    "error\n",
    "error_abs=np.abs(error)\n",
    "error_abs"
   ]
  },
  {
   "cell_type": "code",
   "execution_count": 121,
   "id": "5b3b2008-3a41-46d4-88f1-42eaa2077d57",
   "metadata": {},
   "outputs": [
    {
     "data": {
      "text/plain": [
       "19.069786211393286"
      ]
     },
     "execution_count": 121,
     "metadata": {},
     "output_type": "execute_result"
    }
   ],
   "source": [
    "MAPE=np.mean(error_abs/y_test)*100\n",
    "MAPE"
   ]
  },
  {
   "cell_type": "code",
   "execution_count": 122,
   "id": "36f308c1-a5b3-4471-a95d-d7db3925acce",
   "metadata": {},
   "outputs": [
    {
     "data": {
      "text/plain": [
       "80.93021378860672"
      ]
     },
     "execution_count": 122,
     "metadata": {},
     "output_type": "execute_result"
    }
   ],
   "source": [
    "Accuracy_LR=(100-MAPE)\n",
    "Accuracy_LR"
   ]
  },
  {
   "cell_type": "code",
   "execution_count": 123,
   "id": "d08edc11-33f7-4574-a239-ba48dc54bb2c",
   "metadata": {
    "scrolled": true
   },
   "outputs": [
    {
     "data": {
      "image/png": "[encoded data removed]",
      "text/plain": [
       "<Figure size 640x480 with 1 Axes>"
      ]
     },
     "metadata": {},
     "output_type": "display_data"
    }
   ],
   "source": [
    "import matplotlib.pyplot as plt\n",
    "import seaborn as sns\n",
    "plt.scatter(pred,y_test)\n",
    "plt.show()"
   ]
  },
  {
   "cell_type": "code",
   "execution_count": 124,
   "id": "1258da06-e64f-4ea3-a10c-b4448d0aba41",
   "metadata": {},
   "outputs": [],
   "source": [
    "from scipy import stats\n",
    "slope,intercepts,r,p,std_err=stats.linregress(pred,y_test)\n",
    "def myfunc(y_test):\n",
    " return slope*y_test+intercepts\n",
    "mymodel=list(map(myfunc,y_test))"
   ]
  },
  {
   "cell_type": "markdown",
   "id": "34b99366-cf12-48b1-bd4f-238bdbc5b5d0",
   "metadata": {},
   "source": [
    "#Lasso-L1::"
   ]
  },
  {
   "cell_type": "code",
   "execution_count": 126,
   "id": "fcdd87e8-7a52-434f-88a0-b407beabd536",
   "metadata": {},
   "outputs": [
    {
     "data": {
      "text/html": [
       "<div>\n",
       "<style scoped>\n",
       "    .dataframe tbody tr th:only-of-type {\n",
       "        vertical-align: middle;\n",
       "    }\n",
       "\n",
       "    .dataframe tbody tr th {\n",
       "        vertical-align: top;\n",
       "    }\n",
       "\n",
       "    .dataframe thead th {\n",
       "        text-align: right;\n",
       "    }\n",
       "</style>\n",
       "<table border=\"1\" class=\"dataframe\">\n",
       "  <thead>\n",
       "    <tr style=\"text-align: right;\">\n",
       "      <th></th>\n",
       "      <th>Bodyfat</th>\n",
       "      <th>Age</th>\n",
       "      <th>Weight</th>\n",
       "      <th>Height</th>\n",
       "      <th>Neck</th>\n",
       "      <th>Chest</th>\n",
       "      <th>Abdomen</th>\n",
       "      <th>Ankle</th>\n",
       "      <th>Biceps</th>\n",
       "      <th>Wrist</th>\n",
       "    </tr>\n",
       "  </thead>\n",
       "  <tbody>\n",
       "    <tr>\n",
       "      <th>0</th>\n",
       "      <td>32</td>\n",
       "      <td>41</td>\n",
       "      <td>247</td>\n",
       "      <td>74</td>\n",
       "      <td>42.1</td>\n",
       "      <td>117</td>\n",
       "      <td>116</td>\n",
       "      <td>26</td>\n",
       "      <td>37</td>\n",
       "      <td>20</td>\n",
       "    </tr>\n",
       "  </tbody>\n",
       "</table>\n",
       "</div>"
      ],
      "text/plain": [
       "   Bodyfat  Age  Weight  Height  Neck  Chest  Abdomen  Ankle  Biceps  Wrist\n",
       "0       32   41     247      74  42.1    117      116     26      37     20"
      ]
     },
     "execution_count": 126,
     "metadata": {},
     "output_type": "execute_result"
    }
   ],
   "source": [
    "from sklearn.linear_model import Lasso\n",
    "lasso=Lasso()\n",
    "lasso.fit(x_train,y_train)\n",
    "Lasso()\n",
    "bf.head(1)"
   ]
  },
  {
   "cell_type": "code",
   "execution_count": 127,
   "id": "f6d6e1e7-d7f4-4c12-ac80-5fc540d48132",
   "metadata": {},
   "outputs": [
    {
     "data": {
      "text/plain": [
       "array([-0.55481494,  0.03313048,  0.        ,  0.42621539,  0.97890175,\n",
       "        0.        ,  0.        ,  4.37597353])"
      ]
     },
     "execution_count": 127,
     "metadata": {},
     "output_type": "execute_result"
    }
   ],
   "source": [
    "lasso.coef_"
   ]
  },
  {
   "cell_type": "code",
   "execution_count": 128,
   "id": "7dec13d4-d7ca-47af-8013-7bc6c1bb64e5",
   "metadata": {},
   "outputs": [],
   "source": [
    "#y(bf)=B0+X1.Age+X2.Weight+X3.Height+X4.Neck+X5.Chest+X6.Abdomen+X7.Ankle+X8.Biceps+X9.Wrist\n",
    "#lungcap,age,height--data(LR)---R2,Adj_R2"
   ]
  },
  {
   "cell_type": "code",
   "execution_count": 129,
   "id": "fbbf7872-942e-4428-a22c-59b4a9f55c1c",
   "metadata": {},
   "outputs": [
    {
     "data": {
      "text/plain": [
       "array([52.54423719, 45.83445804, 48.62918687, 46.3396254 , 38.64108417,\n",
       "       42.03129176, 44.5563541 , 46.72516795, 43.07981835, 47.7466637 ,\n",
       "       46.89635249, 36.94551726, 28.26006249, 36.67853605, 42.40797072,\n",
       "       46.94442274, 47.79529062, 50.15468435, 43.27569953, 47.70996191,\n",
       "       58.28118718, 40.5361908 , 40.03696142, 39.54930793, 47.64815653,\n",
       "       31.62939955, 45.45867957, 43.2303001 , 49.12113721, 60.38830813])"
      ]
     },
     "execution_count": 129,
     "metadata": {},
     "output_type": "execute_result"
    }
   ],
   "source": [
    "l1_pred=lasso.predict(x_test)\n",
    "l1_pred"
   ]
  },
  {
   "cell_type": "code",
   "execution_count": 130,
   "id": "176e0da1-19b7-4447-82ec-7bc5ad02886e",
   "metadata": {},
   "outputs": [
    {
     "data": {
      "text/plain": [
       "0.42944144125900763"
      ]
     },
     "execution_count": 130,
     "metadata": {},
     "output_type": "execute_result"
    }
   ],
   "source": [
    "l1_R2=lasso.score(x_train,y_train)\n",
    "l1_R2"
   ]
  },
  {
   "cell_type": "code",
   "execution_count": 159,
   "id": "87c67ca4-b6ce-47ba-9a79-71ffb841d4c3",
   "metadata": {},
   "outputs": [
    {
     "data": {
      "text/plain": [
       "0.3792824470839753"
      ]
     },
     "execution_count": 159,
     "metadata": {},
     "output_type": "execute_result"
    }
   ],
   "source": [
    "l1_adj_R2=1-(((1-l1_R2)*(100-1))/(100-8-1))\n",
    "l1_adj_R2"
   ]
  },
  {
   "cell_type": "code",
   "execution_count": 161,
   "id": "a84e04a8-7347-41cd-b93f-74527fa620fa",
   "metadata": {},
   "outputs": [
    {
     "data": {
      "text/html": [
       "<div>\n",
       "<style scoped>\n",
       "    .dataframe tbody tr th:only-of-type {\n",
       "        vertical-align: middle;\n",
       "    }\n",
       "\n",
       "    .dataframe tbody tr th {\n",
       "        vertical-align: top;\n",
       "    }\n",
       "\n",
       "    .dataframe thead th {\n",
       "        text-align: right;\n",
       "    }\n",
       "</style>\n",
       "<table border=\"1\" class=\"dataframe\">\n",
       "  <thead>\n",
       "    <tr style=\"text-align: right;\">\n",
       "      <th></th>\n",
       "      <th>Feature_importances</th>\n",
       "      <th>columns</th>\n",
       "    </tr>\n",
       "  </thead>\n",
       "  <tbody>\n",
       "    <tr>\n",
       "      <th>0</th>\n",
       "      <td>-0.554815</td>\n",
       "      <td>Weight</td>\n",
       "    </tr>\n",
       "    <tr>\n",
       "      <th>1</th>\n",
       "      <td>0.033130</td>\n",
       "      <td>Height</td>\n",
       "    </tr>\n",
       "    <tr>\n",
       "      <th>2</th>\n",
       "      <td>0.000000</td>\n",
       "      <td>Neck</td>\n",
       "    </tr>\n",
       "    <tr>\n",
       "      <th>3</th>\n",
       "      <td>0.426215</td>\n",
       "      <td>Chest</td>\n",
       "    </tr>\n",
       "    <tr>\n",
       "      <th>4</th>\n",
       "      <td>0.978902</td>\n",
       "      <td>Abdomen</td>\n",
       "    </tr>\n",
       "    <tr>\n",
       "      <th>5</th>\n",
       "      <td>0.000000</td>\n",
       "      <td>Ankle</td>\n",
       "    </tr>\n",
       "    <tr>\n",
       "      <th>6</th>\n",
       "      <td>0.000000</td>\n",
       "      <td>Biceps</td>\n",
       "    </tr>\n",
       "    <tr>\n",
       "      <th>7</th>\n",
       "      <td>4.375974</td>\n",
       "      <td>Wrist</td>\n",
       "    </tr>\n",
       "  </tbody>\n",
       "</table>\n",
       "</div>"
      ],
      "text/plain": [
       "   Feature_importances  columns\n",
       "0            -0.554815   Weight\n",
       "1             0.033130   Height\n",
       "2             0.000000     Neck\n",
       "3             0.426215    Chest\n",
       "4             0.978902  Abdomen\n",
       "5             0.000000    Ankle\n",
       "6             0.000000   Biceps\n",
       "7             4.375974    Wrist"
      ]
     },
     "execution_count": 161,
     "metadata": {},
     "output_type": "execute_result"
    }
   ],
   "source": [
    "df=pd.DataFrame({\"Feature_importances\":lasso.coef_,\"columns\":list(x)})\n",
    "df"
   ]
  },
  {
   "cell_type": "code",
   "execution_count": 171,
   "id": "7f4fe00e-7ab6-4b36-86f1-38b5236b11b9",
   "metadata": {},
   "outputs": [
    {
     "data": {
      "text/html": [
       "<div>\n",
       "<style scoped>\n",
       "    .dataframe tbody tr th:only-of-type {\n",
       "        vertical-align: middle;\n",
       "    }\n",
       "\n",
       "    .dataframe tbody tr th {\n",
       "        vertical-align: top;\n",
       "    }\n",
       "\n",
       "    .dataframe thead th {\n",
       "        text-align: right;\n",
       "    }\n",
       "</style>\n",
       "<table border=\"1\" class=\"dataframe\">\n",
       "  <thead>\n",
       "    <tr style=\"text-align: right;\">\n",
       "      <th></th>\n",
       "      <th>Actual</th>\n",
       "      <th>Predictions</th>\n",
       "    </tr>\n",
       "  </thead>\n",
       "  <tbody>\n",
       "    <tr>\n",
       "      <th>80</th>\n",
       "      <td>65</td>\n",
       "      <td>52.544237</td>\n",
       "    </tr>\n",
       "    <tr>\n",
       "      <th>38</th>\n",
       "      <td>40</td>\n",
       "      <td>45.834458</td>\n",
       "    </tr>\n",
       "    <tr>\n",
       "      <th>5</th>\n",
       "      <td>54</td>\n",
       "      <td>48.629187</td>\n",
       "    </tr>\n",
       "    <tr>\n",
       "      <th>61</th>\n",
       "      <td>45</td>\n",
       "      <td>46.339625</td>\n",
       "    </tr>\n",
       "    <tr>\n",
       "      <th>93</th>\n",
       "      <td>27</td>\n",
       "      <td>38.641084</td>\n",
       "    </tr>\n",
       "    <tr>\n",
       "      <th>66</th>\n",
       "      <td>54</td>\n",
       "      <td>42.031292</td>\n",
       "    </tr>\n",
       "    <tr>\n",
       "      <th>41</th>\n",
       "      <td>40</td>\n",
       "      <td>44.556354</td>\n",
       "    </tr>\n",
       "    <tr>\n",
       "      <th>65</th>\n",
       "      <td>41</td>\n",
       "      <td>46.725168</td>\n",
       "    </tr>\n",
       "    <tr>\n",
       "      <th>3</th>\n",
       "      <td>23</td>\n",
       "      <td>43.079818</td>\n",
       "    </tr>\n",
       "    <tr>\n",
       "      <th>72</th>\n",
       "      <td>55</td>\n",
       "      <td>47.746664</td>\n",
       "    </tr>\n",
       "    <tr>\n",
       "      <th>32</th>\n",
       "      <td>40</td>\n",
       "      <td>46.896352</td>\n",
       "    </tr>\n",
       "    <tr>\n",
       "      <th>55</th>\n",
       "      <td>39</td>\n",
       "      <td>36.945517</td>\n",
       "    </tr>\n",
       "    <tr>\n",
       "      <th>87</th>\n",
       "      <td>27</td>\n",
       "      <td>28.260062</td>\n",
       "    </tr>\n",
       "    <tr>\n",
       "      <th>35</th>\n",
       "      <td>33</td>\n",
       "      <td>36.678536</td>\n",
       "    </tr>\n",
       "    <tr>\n",
       "      <th>12</th>\n",
       "      <td>36</td>\n",
       "      <td>42.407971</td>\n",
       "    </tr>\n",
       "    <tr>\n",
       "      <th>16</th>\n",
       "      <td>50</td>\n",
       "      <td>46.944423</td>\n",
       "    </tr>\n",
       "    <tr>\n",
       "      <th>31</th>\n",
       "      <td>40</td>\n",
       "      <td>47.795291</td>\n",
       "    </tr>\n",
       "    <tr>\n",
       "      <th>78</th>\n",
       "      <td>54</td>\n",
       "      <td>50.154684</td>\n",
       "    </tr>\n",
       "    <tr>\n",
       "      <th>36</th>\n",
       "      <td>41</td>\n",
       "      <td>43.275700</td>\n",
       "    </tr>\n",
       "    <tr>\n",
       "      <th>18</th>\n",
       "      <td>55</td>\n",
       "      <td>47.709962</td>\n",
       "    </tr>\n",
       "    <tr>\n",
       "      <th>57</th>\n",
       "      <td>61</td>\n",
       "      <td>58.281187</td>\n",
       "    </tr>\n",
       "    <tr>\n",
       "      <th>64</th>\n",
       "      <td>25</td>\n",
       "      <td>40.536191</td>\n",
       "    </tr>\n",
       "    <tr>\n",
       "      <th>40</th>\n",
       "      <td>40</td>\n",
       "      <td>40.036961</td>\n",
       "    </tr>\n",
       "    <tr>\n",
       "      <th>51</th>\n",
       "      <td>55</td>\n",
       "      <td>39.549308</td>\n",
       "    </tr>\n",
       "    <tr>\n",
       "      <th>29</th>\n",
       "      <td>52</td>\n",
       "      <td>47.648157</td>\n",
       "    </tr>\n",
       "    <tr>\n",
       "      <th>42</th>\n",
       "      <td>26</td>\n",
       "      <td>31.629400</td>\n",
       "    </tr>\n",
       "    <tr>\n",
       "      <th>90</th>\n",
       "      <td>43</td>\n",
       "      <td>45.458680</td>\n",
       "    </tr>\n",
       "    <tr>\n",
       "      <th>86</th>\n",
       "      <td>32</td>\n",
       "      <td>43.230300</td>\n",
       "    </tr>\n",
       "    <tr>\n",
       "      <th>85</th>\n",
       "      <td>27</td>\n",
       "      <td>49.121137</td>\n",
       "    </tr>\n",
       "    <tr>\n",
       "      <th>25</th>\n",
       "      <td>49</td>\n",
       "      <td>60.388308</td>\n",
       "    </tr>\n",
       "  </tbody>\n",
       "</table>\n",
       "</div>"
      ],
      "text/plain": [
       "    Actual  Predictions\n",
       "80      65    52.544237\n",
       "38      40    45.834458\n",
       "5       54    48.629187\n",
       "61      45    46.339625\n",
       "93      27    38.641084\n",
       "66      54    42.031292\n",
       "41      40    44.556354\n",
       "65      41    46.725168\n",
       "3       23    43.079818\n",
       "72      55    47.746664\n",
       "32      40    46.896352\n",
       "55      39    36.945517\n",
       "87      27    28.260062\n",
       "35      33    36.678536\n",
       "12      36    42.407971\n",
       "16      50    46.944423\n",
       "31      40    47.795291\n",
       "78      54    50.154684\n",
       "36      41    43.275700\n",
       "18      55    47.709962\n",
       "57      61    58.281187\n",
       "64      25    40.536191\n",
       "40      40    40.036961\n",
       "51      55    39.549308\n",
       "29      52    47.648157\n",
       "42      26    31.629400\n",
       "90      43    45.458680\n",
       "86      32    43.230300\n",
       "85      27    49.121137\n",
       "25      49    60.388308"
      ]
     },
     "execution_count": 171,
     "metadata": {},
     "output_type": "execute_result"
    }
   ],
   "source": [
    "df1=pd.DataFrame({\"Actual\":y_test,\"Predictions\":l1_pred})\n",
    "df1"
   ]
  },
  {
   "cell_type": "code",
   "execution_count": 173,
   "id": "5a34e500-8a04-42f0-bb7b-fcea89649007",
   "metadata": {},
   "outputs": [
    {
     "data": {
      "text/plain": [
       "84.94790241788517"
      ]
     },
     "execution_count": 173,
     "metadata": {},
     "output_type": "execute_result"
    }
   ],
   "source": [
    "MSE_l1=metrics.mean_squared_error(l1_pred,y_test)\n",
    "MSE_l1"
   ]
  },
  {
   "cell_type": "code",
   "execution_count": 175,
   "id": "f3ee74cb-ffc3-4b25-98dd-37fb4e41be7a",
   "metadata": {},
   "outputs": [
    {
     "data": {
      "text/plain": [
       "19.069786211393286"
      ]
     },
     "execution_count": 175,
     "metadata": {},
     "output_type": "execute_result"
    }
   ],
   "source": [
    "MAPE_l1=np.mean(error_abs/y_test)*100\n",
    "MAPE_l1"
   ]
  },
  {
   "cell_type": "code",
   "execution_count": 177,
   "id": "b4164ae8-a07f-4cad-99e8-b98ad601d1bd",
   "metadata": {},
   "outputs": [
    {
     "data": {
      "text/plain": [
       "80.93021378860672"
      ]
     },
     "execution_count": 177,
     "metadata": {},
     "output_type": "execute_result"
    }
   ],
   "source": [
    "Accuracy_l1=(100-MAPE_l1)\n",
    "Accuracy_l1"
   ]
  },
  {
   "cell_type": "code",
   "execution_count": 187,
   "id": "909bcd66-799e-4925-8af4-ebeb4423a9ae",
   "metadata": {},
   "outputs": [
    {
     "data": {
      "image/png": "[encoded data removed]",
      "text/plain": [
       "<Figure size 500x500 with 1 Axes>"
      ]
     },
     "metadata": {},
     "output_type": "display_data"
    }
   ],
   "source": [
    "sns.lmplot(x=\"Actual\",y=\"Predictions\",data=df1,fit_reg=False)\n",
    "d_line=np.arange(df1.min().min(),df1.max().max())\n",
    "plt.plot(d_line,color=\"red\",linestyle=\"-\")\n",
    "plt.show()"
   ]
  },
  {
   "cell_type": "markdown",
   "id": "8f19de52-c02c-4c28-a6f9-adcacccbf805",
   "metadata": {},
   "source": [
    "Ridge (L2)::"
   ]
  },
  {
   "cell_type": "code",
   "execution_count": 139,
   "id": "77611c34-8b9e-476d-a66d-284d656a0c0e",
   "metadata": {},
   "outputs": [
    {
     "data": {
      "text/html": [
       "<style>#sk-container-id-2 {\n",
       "  /* Definition of color scheme common for light and dark mode */\n",
       "  --sklearn-color-text: black;\n",
       "  --sklearn-color-line: gray;\n",
       "  /* Definition of color scheme for unfitted estimators */\n",
       "  --sklearn-color-unfitted-level-0: #fff5e6;\n",
       "  --sklearn-color-unfitted-level-1: #f6e4d2;\n",
       "  --sklearn-color-unfitted-level-2: #ffe0b3;\n",
       "  --sklearn-color-unfitted-level-3: chocolate;\n",
       "  /* Definition of color scheme for fitted estimators */\n",
       "  --sklearn-color-fitted-level-0: #f0f8ff;\n",
       "  --sklearn-color-fitted-level-1: #d4ebff;\n",
       "  --sklearn-color-fitted-level-2: #b3dbfd;\n",
       "  --sklearn-color-fitted-level-3: cornflowerblue;\n",
       "\n",
       "  /* Specific color for light theme */\n",
       "  --sklearn-color-text-on-default-background: var(--sg-text-color, var(--theme-code-foreground, var(--jp-content-font-color1, black)));\n",
       "  --sklearn-color-background: var(--sg-background-color, var(--theme-background, var(--jp-layout-color0, white)));\n",
       "  --sklearn-color-border-box: var(--sg-text-color, var(--theme-code-foreground, var(--jp-content-font-color1, black)));\n",
       "  --sklearn-color-icon: #696969;\n",
       "\n",
       "  @media (prefers-color-scheme: dark) {\n",
       "    /* Redefinition of color scheme for dark theme */\n",
       "    --sklearn-color-text-on-default-background: var(--sg-text-color, var(--theme-code-foreground, var(--jp-content-font-color1, white)));\n",
       "    --sklearn-color-background: var(--sg-background-color, var(--theme-background, var(--jp-layout-color0, #111)));\n",
       "    --sklearn-color-border-box: var(--sg-text-color, var(--theme-code-foreground, var(--jp-content-font-color1, white)));\n",
       "    --sklearn-color-icon: #878787;\n",
       "  }\n",
       "}\n",
       "\n",
       "#sk-container-id-2 {\n",
       "  color: var(--sklearn-color-text);\n",
       "}\n",
       "\n",
       "#sk-container-id-2 pre {\n",
       "  padding: 0;\n",
       "}\n",
       "\n",
       "#sk-container-id-2 input.sk-hidden--visually {\n",
       "  border: 0;\n",
       "  clip: rect(1px 1px 1px 1px);\n",
       "  clip: rect(1px, 1px, 1px, 1px);\n",
       "  height: 1px;\n",
       "  margin: -1px;\n",
       "  overflow: hidden;\n",
       "  padding: 0;\n",
       "  position: absolute;\n",
       "  width: 1px;\n",
       "}\n",
       "\n",
       "#sk-container-id-2 div.sk-dashed-wrapped {\n",
       "  border: 1px dashed var(--sklearn-color-line);\n",
       "  margin: 0 0.4em 0.5em 0.4em;\n",
       "  box-sizing: border-box;\n",
       "  padding-bottom: 0.4em;\n",
       "  background-color: var(--sklearn-color-background);\n",
       "}\n",
       "\n",
       "#sk-container-id-2 div.sk-container {\n",
       "  /* jupyter's `normalize.less` sets `[hidden] { display: none; }`\n",
       "     but bootstrap.min.css set `[hidden] { display: none !important; }`\n",
       "     so we also need the `!important` here to be able to override the\n",
       "     default hidden behavior on the sphinx rendered scikit-learn.org.\n",
       "     See: https://github.com/scikit-learn/scikit-learn/issues/21755 */\n",
       "  display: inline-block !important;\n",
       "  position: relative;\n",
       "}\n",
       "\n",
       "#sk-container-id-2 div.sk-text-repr-fallback {\n",
       "  display: none;\n",
       "}\n",
       "\n",
       "div.sk-parallel-item,\n",
       "div.sk-serial,\n",
       "div.sk-item {\n",
       "  /* draw centered vertical line to link estimators */\n",
       "  background-image: linear-gradient(var(--sklearn-color-text-on-default-background), var(--sklearn-color-text-on-default-background));\n",
       "  background-size: 2px 100%;\n",
       "  background-repeat: no-repeat;\n",
       "  background-position: center center;\n",
       "}\n",
       "\n",
       "/* Parallel-specific style estimator block */\n",
       "\n",
       "#sk-container-id-2 div.sk-parallel-item::after {\n",
       "  content: \"\";\n",
       "  width: 100%;\n",
       "  border-bottom: 2px solid var(--sklearn-color-text-on-default-background);\n",
       "  flex-grow: 1;\n",
       "}\n",
       "\n",
       "#sk-container-id-2 div.sk-parallel {\n",
       "  display: flex;\n",
       "  align-items: stretch;\n",
       "  justify-content: center;\n",
       "  background-color: var(--sklearn-color-background);\n",
       "  position: relative;\n",
       "}\n",
       "\n",
       "#sk-container-id-2 div.sk-parallel-item {\n",
       "  display: flex;\n",
       "  flex-direction: column;\n",
       "}\n",
       "\n",
       "#sk-container-id-2 div.sk-parallel-item:first-child::after {\n",
       "  align-self: flex-end;\n",
       "  width: 50%;\n",
       "}\n",
       "\n",
       "#sk-container-id-2 div.sk-parallel-item:last-child::after {\n",
       "  align-self: flex-start;\n",
       "  width: 50%;\n",
       "}\n",
       "\n",
       "#sk-container-id-2 div.sk-parallel-item:only-child::after {\n",
       "  width: 0;\n",
       "}\n",
       "\n",
       "/* Serial-specific style estimator block */\n",
       "\n",
       "#sk-container-id-2 div.sk-serial {\n",
       "  display: flex;\n",
       "  flex-direction: column;\n",
       "  align-items: center;\n",
       "  background-color: var(--sklearn-color-background);\n",
       "  padding-right: 1em;\n",
       "  padding-left: 1em;\n",
       "}\n",
       "\n",
       "\n",
       "/* Toggleable style: style used for estimator/Pipeline/ColumnTransformer box that is\n",
       "clickable and can be expanded/collapsed.\n",
       "- Pipeline and ColumnTransformer use this feature and define the default style\n",
       "- Estimators will overwrite some part of the style using the `sk-estimator` class\n",
       "*/\n",
       "\n",
       "/* Pipeline and ColumnTransformer style (default) */\n",
       "\n",
       "#sk-container-id-2 div.sk-toggleable {\n",
       "  /* Default theme specific background. It is overwritten whether we have a\n",
       "  specific estimator or a Pipeline/ColumnTransformer */\n",
       "  background-color: var(--sklearn-color-background);\n",
       "}\n",
       "\n",
       "/* Toggleable label */\n",
       "#sk-container-id-2 label.sk-toggleable__label {\n",
       "  cursor: pointer;\n",
       "  display: block;\n",
       "  width: 100%;\n",
       "  margin-bottom: 0;\n",
       "  padding: 0.5em;\n",
       "  box-sizing: border-box;\n",
       "  text-align: center;\n",
       "}\n",
       "\n",
       "#sk-container-id-2 label.sk-toggleable__label-arrow:before {\n",
       "  /* Arrow on the left of the label */\n",
       "  content: \"▸\";\n",
       "  float: left;\n",
       "  margin-right: 0.25em;\n",
       "  color: var(--sklearn-color-icon);\n",
       "}\n",
       "\n",
       "#sk-container-id-2 label.sk-toggleable__label-arrow:hover:before {\n",
       "  color: var(--sklearn-color-text);\n",
       "}\n",
       "\n",
       "/* Toggleable content - dropdown */\n",
       "\n",
       "#sk-container-id-2 div.sk-toggleable__content {\n",
       "  max-height: 0;\n",
       "  max-width: 0;\n",
       "  overflow: hidden;\n",
       "  text-align: left;\n",
       "  /* unfitted */\n",
       "  background-color: var(--sklearn-color-unfitted-level-0);\n",
       "}\n",
       "\n",
       "#sk-container-id-2 div.sk-toggleable__content.fitted {\n",
       "  /* fitted */\n",
       "  background-color: var(--sklearn-color-fitted-level-0);\n",
       "}\n",
       "\n",
       "#sk-container-id-2 div.sk-toggleable__content pre {\n",
       "  margin: 0.2em;\n",
       "  border-radius: 0.25em;\n",
       "  color: var(--sklearn-color-text);\n",
       "  /* unfitted */\n",
       "  background-color: var(--sklearn-color-unfitted-level-0);\n",
       "}\n",
       "\n",
       "#sk-container-id-2 div.sk-toggleable__content.fitted pre {\n",
       "  /* unfitted */\n",
       "  background-color: var(--sklearn-color-fitted-level-0);\n",
       "}\n",
       "\n",
       "#sk-container-id-2 input.sk-toggleable__control:checked~div.sk-toggleable__content {\n",
       "  /* Expand drop-down */\n",
       "  max-height: 200px;\n",
       "  max-width: 100%;\n",
       "  overflow: auto;\n",
       "}\n",
       "\n",
       "#sk-container-id-2 input.sk-toggleable__control:checked~label.sk-toggleable__label-arrow:before {\n",
       "  content: \"▾\";\n",
       "}\n",
       "\n",
       "/* Pipeline/ColumnTransformer-specific style */\n",
       "\n",
       "#sk-container-id-2 div.sk-label input.sk-toggleable__control:checked~label.sk-toggleable__label {\n",
       "  color: var(--sklearn-color-text);\n",
       "  background-color: var(--sklearn-color-unfitted-level-2);\n",
       "}\n",
       "\n",
       "#sk-container-id-2 div.sk-label.fitted input.sk-toggleable__control:checked~label.sk-toggleable__label {\n",
       "  background-color: var(--sklearn-color-fitted-level-2);\n",
       "}\n",
       "\n",
       "/* Estimator-specific style */\n",
       "\n",
       "/* Colorize estimator box */\n",
       "#sk-container-id-2 div.sk-estimator input.sk-toggleable__control:checked~label.sk-toggleable__label {\n",
       "  /* unfitted */\n",
       "  background-color: var(--sklearn-color-unfitted-level-2);\n",
       "}\n",
       "\n",
       "#sk-container-id-2 div.sk-estimator.fitted input.sk-toggleable__control:checked~label.sk-toggleable__label {\n",
       "  /* fitted */\n",
       "  background-color: var(--sklearn-color-fitted-level-2);\n",
       "}\n",
       "\n",
       "#sk-container-id-2 div.sk-label label.sk-toggleable__label,\n",
       "#sk-container-id-2 div.sk-label label {\n",
       "  /* The background is the default theme color */\n",
       "  color: var(--sklearn-color-text-on-default-background);\n",
       "}\n",
       "\n",
       "/* On hover, darken the color of the background */\n",
       "#sk-container-id-2 div.sk-label:hover label.sk-toggleable__label {\n",
       "  color: var(--sklearn-color-text);\n",
       "  background-color: var(--sklearn-color-unfitted-level-2);\n",
       "}\n",
       "\n",
       "/* Label box, darken color on hover, fitted */\n",
       "#sk-container-id-2 div.sk-label.fitted:hover label.sk-toggleable__label.fitted {\n",
       "  color: var(--sklearn-color-text);\n",
       "  background-color: var(--sklearn-color-fitted-level-2);\n",
       "}\n",
       "\n",
       "/* Estimator label */\n",
       "\n",
       "#sk-container-id-2 div.sk-label label {\n",
       "  font-family: monospace;\n",
       "  font-weight: bold;\n",
       "  display: inline-block;\n",
       "  line-height: 1.2em;\n",
       "}\n",
       "\n",
       "#sk-container-id-2 div.sk-label-container {\n",
       "  text-align: center;\n",
       "}\n",
       "\n",
       "/* Estimator-specific */\n",
       "#sk-container-id-2 div.sk-estimator {\n",
       "  font-family: monospace;\n",
       "  border: 1px dotted var(--sklearn-color-border-box);\n",
       "  border-radius: 0.25em;\n",
       "  box-sizing: border-box;\n",
       "  margin-bottom: 0.5em;\n",
       "  /* unfitted */\n",
       "  background-color: var(--sklearn-color-unfitted-level-0);\n",
       "}\n",
       "\n",
       "#sk-container-id-2 div.sk-estimator.fitted {\n",
       "  /* fitted */\n",
       "  background-color: var(--sklearn-color-fitted-level-0);\n",
       "}\n",
       "\n",
       "/* on hover */\n",
       "#sk-container-id-2 div.sk-estimator:hover {\n",
       "  /* unfitted */\n",
       "  background-color: var(--sklearn-color-unfitted-level-2);\n",
       "}\n",
       "\n",
       "#sk-container-id-2 div.sk-estimator.fitted:hover {\n",
       "  /* fitted */\n",
       "  background-color: var(--sklearn-color-fitted-level-2);\n",
       "}\n",
       "\n",
       "/* Specification for estimator info (e.g. \"i\" and \"?\") */\n",
       "\n",
       "/* Common style for \"i\" and \"?\" */\n",
       "\n",
       ".sk-estimator-doc-link,\n",
       "a:link.sk-estimator-doc-link,\n",
       "a:visited.sk-estimator-doc-link {\n",
       "  float: right;\n",
       "  font-size: smaller;\n",
       "  line-height: 1em;\n",
       "  font-family: monospace;\n",
       "  background-color: var(--sklearn-color-background);\n",
       "  border-radius: 1em;\n",
       "  height: 1em;\n",
       "  width: 1em;\n",
       "  text-decoration: none !important;\n",
       "  margin-left: 1ex;\n",
       "  /* unfitted */\n",
       "  border: var(--sklearn-color-unfitted-level-1) 1pt solid;\n",
       "  color: var(--sklearn-color-unfitted-level-1);\n",
       "}\n",
       "\n",
       ".sk-estimator-doc-link.fitted,\n",
       "a:link.sk-estimator-doc-link.fitted,\n",
       "a:visited.sk-estimator-doc-link.fitted {\n",
       "  /* fitted */\n",
       "  border: var(--sklearn-color-fitted-level-1) 1pt solid;\n",
       "  color: var(--sklearn-color-fitted-level-1);\n",
       "}\n",
       "\n",
       "/* On hover */\n",
       "div.sk-estimator:hover .sk-estimator-doc-link:hover,\n",
       ".sk-estimator-doc-link:hover,\n",
       "div.sk-label-container:hover .sk-estimator-doc-link:hover,\n",
       ".sk-estimator-doc-link:hover {\n",
       "  /* unfitted */\n",
       "  background-color: var(--sklearn-color-unfitted-level-3);\n",
       "  color: var(--sklearn-color-background);\n",
       "  text-decoration: none;\n",
       "}\n",
       "\n",
       "div.sk-estimator.fitted:hover .sk-estimator-doc-link.fitted:hover,\n",
       ".sk-estimator-doc-link.fitted:hover,\n",
       "div.sk-label-container:hover .sk-estimator-doc-link.fitted:hover,\n",
       ".sk-estimator-doc-link.fitted:hover {\n",
       "  /* fitted */\n",
       "  background-color: var(--sklearn-color-fitted-level-3);\n",
       "  color: var(--sklearn-color-background);\n",
       "  text-decoration: none;\n",
       "}\n",
       "\n",
       "/* Span, style for the box shown on hovering the info icon */\n",
       ".sk-estimator-doc-link span {\n",
       "  display: none;\n",
       "  z-index: 9999;\n",
       "  position: relative;\n",
       "  font-weight: normal;\n",
       "  right: .2ex;\n",
       "  padding: .5ex;\n",
       "  margin: .5ex;\n",
       "  width: min-content;\n",
       "  min-width: 20ex;\n",
       "  max-width: 50ex;\n",
       "  color: var(--sklearn-color-text);\n",
       "  box-shadow: 2pt 2pt 4pt #999;\n",
       "  /* unfitted */\n",
       "  background: var(--sklearn-color-unfitted-level-0);\n",
       "  border: .5pt solid var(--sklearn-color-unfitted-level-3);\n",
       "}\n",
       "\n",
       ".sk-estimator-doc-link.fitted span {\n",
       "  /* fitted */\n",
       "  background: var(--sklearn-color-fitted-level-0);\n",
       "  border: var(--sklearn-color-fitted-level-3);\n",
       "}\n",
       "\n",
       ".sk-estimator-doc-link:hover span {\n",
       "  display: block;\n",
       "}\n",
       "\n",
       "/* \"?\"-specific style due to the `<a>` HTML tag */\n",
       "\n",
       "#sk-container-id-2 a.estimator_doc_link {\n",
       "  float: right;\n",
       "  font-size: 1rem;\n",
       "  line-height: 1em;\n",
       "  font-family: monospace;\n",
       "  background-color: var(--sklearn-color-background);\n",
       "  border-radius: 1rem;\n",
       "  height: 1rem;\n",
       "  width: 1rem;\n",
       "  text-decoration: none;\n",
       "  /* unfitted */\n",
       "  color: var(--sklearn-color-unfitted-level-1);\n",
       "  border: var(--sklearn-color-unfitted-level-1) 1pt solid;\n",
       "}\n",
       "\n",
       "#sk-container-id-2 a.estimator_doc_link.fitted {\n",
       "  /* fitted */\n",
       "  border: var(--sklearn-color-fitted-level-1) 1pt solid;\n",
       "  color: var(--sklearn-color-fitted-level-1);\n",
       "}\n",
       "\n",
       "/* On hover */\n",
       "#sk-container-id-2 a.estimator_doc_link:hover {\n",
       "  /* unfitted */\n",
       "  background-color: var(--sklearn-color-unfitted-level-3);\n",
       "  color: var(--sklearn-color-background);\n",
       "  text-decoration: none;\n",
       "}\n",
       "\n",
       "#sk-container-id-2 a.estimator_doc_link.fitted:hover {\n",
       "  /* fitted */\n",
       "  background-color: var(--sklearn-color-fitted-level-3);\n",
       "}\n",
       "</style><div id=\"sk-container-id-2\" class=\"sk-top-container\"><div class=\"sk-text-repr-fallback\"><pre>Ridge()</pre><b>In a Jupyter environment, please rerun this cell to show the HTML representation or trust the notebook. <br />On GitHub, the HTML representation is unable to render, please try loading this page with nbviewer.org.</b></div><div class=\"sk-container\" hidden><div class=\"sk-item\"><div class=\"sk-estimator  sk-toggleable\"><input class=\"sk-toggleable__control sk-hidden--visually\" id=\"sk-estimator-id-2\" type=\"checkbox\" checked><label for=\"sk-estimator-id-2\" class=\"sk-toggleable__label  sk-toggleable__label-arrow \">&nbsp;&nbsp;Ridge<a class=\"sk-estimator-doc-link \" rel=\"noreferrer\" target=\"_blank\" href=\"https://scikit-learn.org/1.4/modules/generated/sklearn.linear_model.Ridge.html\">?<span>Documentation for Ridge</span></a><span class=\"sk-estimator-doc-link \">i<span>Not fitted</span></span></label><div class=\"sk-toggleable__content \"><pre>Ridge()</pre></div> </div></div></div></div>"
      ],
      "text/plain": [
       "Ridge()"
      ]
     },
     "execution_count": 139,
     "metadata": {},
     "output_type": "execute_result"
    }
   ],
   "source": [
    "from sklearn.linear_model import Ridge\n",
    "rd=Ridge()\n",
    "rd.fit(x_train,y_train)\n",
    "Ridge()"
   ]
  },
  {
   "cell_type": "code",
   "execution_count": 140,
   "id": "62f8b7be-5113-4db2-bffa-7a967bba14a1",
   "metadata": {},
   "outputs": [
    {
     "data": {
      "text/plain": [
       "array([52.65046686, 45.07033472, 49.56122953, 44.86979995, 37.74037564,\n",
       "       40.8300024 , 43.46342579, 48.22152382, 40.92488536, 46.885433  ,\n",
       "       45.72290911, 34.38952117, 26.53740839, 34.85679241, 42.29213444,\n",
       "       46.65907735, 47.19658523, 52.18363297, 42.34906252, 48.41782083,\n",
       "       58.85868537, 41.442002  , 39.78185837, 38.7556683 , 48.15266962,\n",
       "       29.02868431, 43.95764474, 42.20773558, 48.58516167, 59.8800989 ])"
      ]
     },
     "execution_count": 140,
     "metadata": {},
     "output_type": "execute_result"
    }
   ],
   "source": [
    "rd_pred=rd.predict(x_test)\n",
    "rd_pred"
   ]
  },
  {
   "cell_type": "code",
   "execution_count": 141,
   "id": "ceabc698-6a0d-4956-a0e5-824d050b00b9",
   "metadata": {},
   "outputs": [
    {
     "data": {
      "text/plain": [
       "[-0.7278174519328144,\n",
       " 0.5336957787493227,\n",
       " 0.35599065003555547,\n",
       " 0.6493913549101236,\n",
       " 1.0909289068117545,\n",
       " 0.14664421565408864,\n",
       " -0.05054608173377537,\n",
       " 5.652871969957936]"
      ]
     },
     "execution_count": 141,
     "metadata": {},
     "output_type": "execute_result"
    }
   ],
   "source": [
    "list(rd.coef_)"
   ]
  },
  {
   "cell_type": "code",
   "execution_count": 142,
   "id": "11aed3c5-6545-489b-9f1b-a6f399d6942c",
   "metadata": {},
   "outputs": [
    {
     "data": {
      "text/plain": [
       "0.4510422524417069"
      ]
     },
     "execution_count": 142,
     "metadata": {},
     "output_type": "execute_result"
    }
   ],
   "source": [
    "rd_R2=rd.score(x_train,y_train)\n",
    "rd_R2"
   ]
  },
  {
   "cell_type": "code",
   "execution_count": 143,
   "id": "da28b23f-c700-4afa-b7df-e1e033624b3a",
   "metadata": {},
   "outputs": [
    {
     "data": {
      "text/plain": [
       "0.3686985903079629"
      ]
     },
     "execution_count": 143,
     "metadata": {},
     "output_type": "execute_result"
    }
   ],
   "source": [
    "rd_adj_R2=1-(((1-rd_R2)*(70-1))/(70-9-1))\n",
    "rd_adj_R2"
   ]
  },
  {
   "cell_type": "code",
   "execution_count": 144,
   "id": "c08f98f5-21bf-4ed4-9b67-66102880c098",
   "metadata": {},
   "outputs": [
    {
     "data": {
      "text/html": [
       "<div>\n",
       "<style scoped>\n",
       "    .dataframe tbody tr th:only-of-type {\n",
       "        vertical-align: middle;\n",
       "    }\n",
       "\n",
       "    .dataframe tbody tr th {\n",
       "        vertical-align: top;\n",
       "    }\n",
       "\n",
       "    .dataframe thead th {\n",
       "        text-align: right;\n",
       "    }\n",
       "</style>\n",
       "<table border=\"1\" class=\"dataframe\">\n",
       "  <thead>\n",
       "    <tr style=\"text-align: right;\">\n",
       "      <th></th>\n",
       "      <th>Feature_importances</th>\n",
       "      <th>columns</th>\n",
       "    </tr>\n",
       "  </thead>\n",
       "  <tbody>\n",
       "    <tr>\n",
       "      <th>0</th>\n",
       "      <td>-0.727817</td>\n",
       "      <td>Weight</td>\n",
       "    </tr>\n",
       "    <tr>\n",
       "      <th>1</th>\n",
       "      <td>0.533696</td>\n",
       "      <td>Height</td>\n",
       "    </tr>\n",
       "    <tr>\n",
       "      <th>2</th>\n",
       "      <td>0.355991</td>\n",
       "      <td>Neck</td>\n",
       "    </tr>\n",
       "    <tr>\n",
       "      <th>3</th>\n",
       "      <td>0.649391</td>\n",
       "      <td>Chest</td>\n",
       "    </tr>\n",
       "    <tr>\n",
       "      <th>4</th>\n",
       "      <td>1.090929</td>\n",
       "      <td>Abdomen</td>\n",
       "    </tr>\n",
       "    <tr>\n",
       "      <th>5</th>\n",
       "      <td>0.146644</td>\n",
       "      <td>Ankle</td>\n",
       "    </tr>\n",
       "    <tr>\n",
       "      <th>6</th>\n",
       "      <td>-0.050546</td>\n",
       "      <td>Biceps</td>\n",
       "    </tr>\n",
       "    <tr>\n",
       "      <th>7</th>\n",
       "      <td>5.652872</td>\n",
       "      <td>Wrist</td>\n",
       "    </tr>\n",
       "  </tbody>\n",
       "</table>\n",
       "</div>"
      ],
      "text/plain": [
       "   Feature_importances  columns\n",
       "0            -0.727817   Weight\n",
       "1             0.533696   Height\n",
       "2             0.355991     Neck\n",
       "3             0.649391    Chest\n",
       "4             1.090929  Abdomen\n",
       "5             0.146644    Ankle\n",
       "6            -0.050546   Biceps\n",
       "7             5.652872    Wrist"
      ]
     },
     "execution_count": 144,
     "metadata": {},
     "output_type": "execute_result"
    }
   ],
   "source": [
    "df2=pd.DataFrame({\"Feature_importances\":rd.coef_,\"columns\":list(x)})\n",
    "df2"
   ]
  },
  {
   "cell_type": "code",
   "execution_count": 179,
   "id": "22038119-5d9b-48fc-b2bf-1bf43c97e6c5",
   "metadata": {},
   "outputs": [
    {
     "data": {
      "text/html": [
       "<div>\n",
       "<style scoped>\n",
       "    .dataframe tbody tr th:only-of-type {\n",
       "        vertical-align: middle;\n",
       "    }\n",
       "\n",
       "    .dataframe tbody tr th {\n",
       "        vertical-align: top;\n",
       "    }\n",
       "\n",
       "    .dataframe thead th {\n",
       "        text-align: right;\n",
       "    }\n",
       "</style>\n",
       "<table border=\"1\" class=\"dataframe\">\n",
       "  <thead>\n",
       "    <tr style=\"text-align: right;\">\n",
       "      <th></th>\n",
       "      <th>Actual</th>\n",
       "      <th>Predictions</th>\n",
       "    </tr>\n",
       "  </thead>\n",
       "  <tbody>\n",
       "    <tr>\n",
       "      <th>80</th>\n",
       "      <td>65</td>\n",
       "      <td>52.650467</td>\n",
       "    </tr>\n",
       "    <tr>\n",
       "      <th>38</th>\n",
       "      <td>40</td>\n",
       "      <td>45.070335</td>\n",
       "    </tr>\n",
       "    <tr>\n",
       "      <th>5</th>\n",
       "      <td>54</td>\n",
       "      <td>49.561230</td>\n",
       "    </tr>\n",
       "    <tr>\n",
       "      <th>61</th>\n",
       "      <td>45</td>\n",
       "      <td>44.869800</td>\n",
       "    </tr>\n",
       "    <tr>\n",
       "      <th>93</th>\n",
       "      <td>27</td>\n",
       "      <td>37.740376</td>\n",
       "    </tr>\n",
       "    <tr>\n",
       "      <th>66</th>\n",
       "      <td>54</td>\n",
       "      <td>40.830002</td>\n",
       "    </tr>\n",
       "    <tr>\n",
       "      <th>41</th>\n",
       "      <td>40</td>\n",
       "      <td>43.463426</td>\n",
       "    </tr>\n",
       "    <tr>\n",
       "      <th>65</th>\n",
       "      <td>41</td>\n",
       "      <td>48.221524</td>\n",
       "    </tr>\n",
       "    <tr>\n",
       "      <th>3</th>\n",
       "      <td>23</td>\n",
       "      <td>40.924885</td>\n",
       "    </tr>\n",
       "    <tr>\n",
       "      <th>72</th>\n",
       "      <td>55</td>\n",
       "      <td>46.885433</td>\n",
       "    </tr>\n",
       "    <tr>\n",
       "      <th>32</th>\n",
       "      <td>40</td>\n",
       "      <td>45.722909</td>\n",
       "    </tr>\n",
       "    <tr>\n",
       "      <th>55</th>\n",
       "      <td>39</td>\n",
       "      <td>34.389521</td>\n",
       "    </tr>\n",
       "    <tr>\n",
       "      <th>87</th>\n",
       "      <td>27</td>\n",
       "      <td>26.537408</td>\n",
       "    </tr>\n",
       "    <tr>\n",
       "      <th>35</th>\n",
       "      <td>33</td>\n",
       "      <td>34.856792</td>\n",
       "    </tr>\n",
       "    <tr>\n",
       "      <th>12</th>\n",
       "      <td>36</td>\n",
       "      <td>42.292134</td>\n",
       "    </tr>\n",
       "    <tr>\n",
       "      <th>16</th>\n",
       "      <td>50</td>\n",
       "      <td>46.659077</td>\n",
       "    </tr>\n",
       "    <tr>\n",
       "      <th>31</th>\n",
       "      <td>40</td>\n",
       "      <td>47.196585</td>\n",
       "    </tr>\n",
       "    <tr>\n",
       "      <th>78</th>\n",
       "      <td>54</td>\n",
       "      <td>52.183633</td>\n",
       "    </tr>\n",
       "    <tr>\n",
       "      <th>36</th>\n",
       "      <td>41</td>\n",
       "      <td>42.349063</td>\n",
       "    </tr>\n",
       "    <tr>\n",
       "      <th>18</th>\n",
       "      <td>55</td>\n",
       "      <td>48.417821</td>\n",
       "    </tr>\n",
       "    <tr>\n",
       "      <th>57</th>\n",
       "      <td>61</td>\n",
       "      <td>58.858685</td>\n",
       "    </tr>\n",
       "    <tr>\n",
       "      <th>64</th>\n",
       "      <td>25</td>\n",
       "      <td>41.442002</td>\n",
       "    </tr>\n",
       "    <tr>\n",
       "      <th>40</th>\n",
       "      <td>40</td>\n",
       "      <td>39.781858</td>\n",
       "    </tr>\n",
       "    <tr>\n",
       "      <th>51</th>\n",
       "      <td>55</td>\n",
       "      <td>38.755668</td>\n",
       "    </tr>\n",
       "    <tr>\n",
       "      <th>29</th>\n",
       "      <td>52</td>\n",
       "      <td>48.152670</td>\n",
       "    </tr>\n",
       "    <tr>\n",
       "      <th>42</th>\n",
       "      <td>26</td>\n",
       "      <td>29.028684</td>\n",
       "    </tr>\n",
       "    <tr>\n",
       "      <th>90</th>\n",
       "      <td>43</td>\n",
       "      <td>43.957645</td>\n",
       "    </tr>\n",
       "    <tr>\n",
       "      <th>86</th>\n",
       "      <td>32</td>\n",
       "      <td>42.207736</td>\n",
       "    </tr>\n",
       "    <tr>\n",
       "      <th>85</th>\n",
       "      <td>27</td>\n",
       "      <td>48.585162</td>\n",
       "    </tr>\n",
       "    <tr>\n",
       "      <th>25</th>\n",
       "      <td>49</td>\n",
       "      <td>59.880099</td>\n",
       "    </tr>\n",
       "  </tbody>\n",
       "</table>\n",
       "</div>"
      ],
      "text/plain": [
       "    Actual  Predictions\n",
       "80      65    52.650467\n",
       "38      40    45.070335\n",
       "5       54    49.561230\n",
       "61      45    44.869800\n",
       "93      27    37.740376\n",
       "66      54    40.830002\n",
       "41      40    43.463426\n",
       "65      41    48.221524\n",
       "3       23    40.924885\n",
       "72      55    46.885433\n",
       "32      40    45.722909\n",
       "55      39    34.389521\n",
       "87      27    26.537408\n",
       "35      33    34.856792\n",
       "12      36    42.292134\n",
       "16      50    46.659077\n",
       "31      40    47.196585\n",
       "78      54    52.183633\n",
       "36      41    42.349063\n",
       "18      55    48.417821\n",
       "57      61    58.858685\n",
       "64      25    41.442002\n",
       "40      40    39.781858\n",
       "51      55    38.755668\n",
       "29      52    48.152670\n",
       "42      26    29.028684\n",
       "90      43    43.957645\n",
       "86      32    42.207736\n",
       "85      27    48.585162\n",
       "25      49    59.880099"
      ]
     },
     "execution_count": 179,
     "metadata": {},
     "output_type": "execute_result"
    }
   ],
   "source": [
    "df_2=pd.DataFrame({\"Actual\":y_test,\"Predictions\":rd_pred})\n",
    "df_2"
   ]
  },
  {
   "cell_type": "code",
   "execution_count": 181,
   "id": "14c8b6c2-615f-45c3-bed1-32e983efe452",
   "metadata": {},
   "outputs": [
    {
     "data": {
      "text/plain": [
       "79.96435519724567"
      ]
     },
     "execution_count": 181,
     "metadata": {},
     "output_type": "execute_result"
    }
   ],
   "source": [
    "MSE_rd=metrics.mean_squared_error(rd_pred,y_test)\n",
    "MSE_rd"
   ]
  },
  {
   "cell_type": "code",
   "execution_count": 183,
   "id": "5d194718-519c-4778-acae-16dafcd26d0b",
   "metadata": {},
   "outputs": [
    {
     "data": {
      "text/plain": [
       "19.069786211393286"
      ]
     },
     "execution_count": 183,
     "metadata": {},
     "output_type": "execute_result"
    }
   ],
   "source": [
    "MAPE_rd=np.mean(error_abs/y_test)*100\n",
    "MAPE_rd"
   ]
  },
  {
   "cell_type": "code",
   "execution_count": 185,
   "id": "9964ba07-525c-40ec-a174-1a4da357582b",
   "metadata": {},
   "outputs": [
    {
     "data": {
      "text/plain": [
       "80.93021378860672"
      ]
     },
     "execution_count": 185,
     "metadata": {},
     "output_type": "execute_result"
    }
   ],
   "source": [
    "Accuracy_rd=(100-MAPE_rd)\n",
    "Accuracy_rd"
   ]
  },
  {
   "cell_type": "code",
   "execution_count": 189,
   "id": "0ea13216-be3d-4abe-bca7-255edb1c1b46",
   "metadata": {},
   "outputs": [
    {
     "data": {
      "image/png": "[encoded data removed]",
      "text/plain": [
       "<Figure size 500x500 with 1 Axes>"
      ]
     },
     "metadata": {},
     "output_type": "display_data"
    }
   ],
   "source": [
    "sns.lmplot(x=\"Actual\",y=\"Predictions\",data=df2,fit_reg=False)\n",
    "d_line=np.arange(df2.min().min(),df2.max().max())\n",
    "plt.plot(d_line,color=\"red\",linestyle=\"-\")\n",
    "plt.show()"
   ]
  },
  {
   "cell_type": "markdown",
   "id": "501f94ea-c71b-4cc4-aa3f-e0b41cdcf658",
   "metadata": {},
   "source": [
    "Feature Selection::"
   ]
  },
  {
   "cell_type": "code",
   "execution_count": 156,
   "id": "70ad75e3-427f-4e59-918b-cd289d33631e",
   "metadata": {},
   "outputs": [
    {
     "data": {
      "text/html": [
       "<div>\n",
       "<style scoped>\n",
       "    .dataframe tbody tr th:only-of-type {\n",
       "        vertical-align: middle;\n",
       "    }\n",
       "\n",
       "    .dataframe tbody tr th {\n",
       "        vertical-align: top;\n",
       "    }\n",
       "\n",
       "    .dataframe thead th {\n",
       "        text-align: right;\n",
       "    }\n",
       "</style>\n",
       "<table border=\"1\" class=\"dataframe\">\n",
       "  <thead>\n",
       "    <tr style=\"text-align: right;\">\n",
       "      <th></th>\n",
       "      <th>Feature_importances</th>\n",
       "      <th>columns</th>\n",
       "    </tr>\n",
       "  </thead>\n",
       "  <tbody>\n",
       "    <tr>\n",
       "      <th>0</th>\n",
       "      <td>-0.554815</td>\n",
       "      <td>Weight</td>\n",
       "    </tr>\n",
       "    <tr>\n",
       "      <th>1</th>\n",
       "      <td>0.033130</td>\n",
       "      <td>Height</td>\n",
       "    </tr>\n",
       "    <tr>\n",
       "      <th>2</th>\n",
       "      <td>0.000000</td>\n",
       "      <td>Neck</td>\n",
       "    </tr>\n",
       "    <tr>\n",
       "      <th>3</th>\n",
       "      <td>0.426215</td>\n",
       "      <td>Chest</td>\n",
       "    </tr>\n",
       "    <tr>\n",
       "      <th>4</th>\n",
       "      <td>0.978902</td>\n",
       "      <td>Abdomen</td>\n",
       "    </tr>\n",
       "    <tr>\n",
       "      <th>5</th>\n",
       "      <td>0.000000</td>\n",
       "      <td>Ankle</td>\n",
       "    </tr>\n",
       "    <tr>\n",
       "      <th>6</th>\n",
       "      <td>0.000000</td>\n",
       "      <td>Biceps</td>\n",
       "    </tr>\n",
       "    <tr>\n",
       "      <th>7</th>\n",
       "      <td>4.375974</td>\n",
       "      <td>Wrist</td>\n",
       "    </tr>\n",
       "  </tbody>\n",
       "</table>\n",
       "</div>"
      ],
      "text/plain": [
       "   Feature_importances  columns\n",
       "0            -0.554815   Weight\n",
       "1             0.033130   Height\n",
       "2             0.000000     Neck\n",
       "3             0.426215    Chest\n",
       "4             0.978902  Abdomen\n",
       "5             0.000000    Ankle\n",
       "6             0.000000   Biceps\n",
       "7             4.375974    Wrist"
      ]
     },
     "execution_count": 156,
     "metadata": {},
     "output_type": "execute_result"
    }
   ],
   "source": [
    "df"
   ]
  },
  {
   "cell_type": "code",
   "execution_count": 157,
   "id": "3b573202-d79a-4023-9000-e485924f6a59",
   "metadata": {},
   "outputs": [
    {
     "data": {
      "text/plain": [
       "(100, 10)"
      ]
     },
     "execution_count": 157,
     "metadata": {},
     "output_type": "execute_result"
    }
   ],
   "source": [
    "bf.shape"
   ]
  },
  {
   "cell_type": "code",
   "execution_count": 158,
   "id": "7d72a4da-cffd-4eb4-9a16-01f8c63721e5",
   "metadata": {},
   "outputs": [
    {
     "ename": "SyntaxError",
     "evalue": "invalid syntax (1970394616.py, line 1)",
     "output_type": "error",
     "traceback": [
      "\u001b[1;36m  Cell \u001b[1;32mIn[158], line 1\u001b[1;36m\u001b[0m\n\u001b[1;33m    l_new=bf.drop([\"Age\",\"Height\",\"Neck\",\"Chest\",,\"Ankle\",\"Biceps\",\"Wrist\"],axis=1)\u001b[0m\n\u001b[1;37m                                                 ^\u001b[0m\n\u001b[1;31mSyntaxError\u001b[0m\u001b[1;31m:\u001b[0m invalid syntax\n"
     ]
    }
   ],
   "source": [
    "l_new=bf.drop([\"Age\",\"Height\",\"Neck\",\"Chest\",,\"Ankle\",\"Biceps\",\"Wrist\"],axis=1)\n",
    "l_new.shape"
   ]
  },
  {
   "cell_type": "code",
   "execution_count": null,
   "id": "c6b7895f-f0c1-4d75-a908-364d1414d1e0",
   "metadata": {},
   "outputs": [],
   "source": [
    "l_new.isnull().sum()\n",
    "l_new.dtypes"
   ]
  },
  {
   "cell_type": "code",
   "execution_count": null,
   "id": "572b45bb-31d8-43c5-9d80-33dca6c99c7c",
   "metadata": {},
   "outputs": [],
   "source": [
    "x1=l_new.iloc[:,1:]\n",
    "x1.head()\n",
    "y1=l_new.iloc[:,0]\n",
    "y1.head()"
   ]
  },
  {
   "cell_type": "code",
   "execution_count": null,
   "id": "51856b89-282a-4814-a85c-2739375e3c01",
   "metadata": {},
   "outputs": [],
   "source": [
    "x1_train,x1_test,y1_train,y1_test=train_test_split(x1,y1,test_size=0.2,random_state=120)\n",
    "x1_train.shape,x1_test.shape,y1_train.shape,y1_test.shape"
   ]
  },
  {
   "cell_type": "code",
   "execution_count": null,
   "id": "62b79c4f-3f8b-4f6b-82a0-bd6867b3cae1",
   "metadata": {},
   "outputs": [],
   "source": [
    "linear.fit(x1_train,y1_train)\n",
    "LinearRegression()"
   ]
  },
  {
   "cell_type": "code",
   "execution_count": null,
   "id": "426076c6-7804-4319-97c3-2952f9e6a1d0",
   "metadata": {},
   "outputs": [],
   "source": [
    "linear_new_pred=linear.predict(x1_test)\n",
    "linear_new_pred"
   ]
  },
  {
   "cell_type": "code",
   "execution_count": null,
   "id": "e2e8a4c0-9d21-441d-bbf4-3d2afa5f5472",
   "metadata": {},
   "outputs": [],
   "source": [
    "new_R2=linear.score(x1_train,y1_train)\n",
    "new_R2"
   ]
  },
  {
   "cell_type": "code",
   "execution_count": null,
   "id": "324a52b4-0c8a-492c-955a-4081cfeab48f",
   "metadata": {},
   "outputs": [],
   "source": [
    "Adjnew_R2=1-(((1-new_R2)*(70-1))/(70-9-1))\n",
    "Adjnew_R2"
   ]
  },
  {
   "cell_type": "code",
   "execution_count": null,
   "id": "b50bf7e9-cf20-46c6-a1f0-8067d1fa979c",
   "metadata": {},
   "outputs": [],
   "source": [
    "new_MSE=metrics.mean_squared_error(linear_new_pred,y1_test)\n",
    "new_MSE"
   ]
  },
  {
   "cell_type": "code",
   "execution_count": null,
   "id": "b97702ed-83a9-49bc-9f3d-3d9e576afc8c",
   "metadata": {},
   "outputs": [],
   "source": [
    "MAPE_LR=np.mean(error_abs/y1_test)*100\n",
    "MAPE_LR"
   ]
  },
  {
   "cell_type": "code",
   "execution_count": null,
   "id": "e07d4f4f-2051-4ace-8f4e-015428697d46",
   "metadata": {},
   "outputs": [],
   "source": [
    "Accuracy_LR=(100-MAPE_LR)\n",
    "Accuracy_LR"
   ]
  },
  {
   "cell_type": "code",
   "execution_count": null,
   "id": "60427d48-8a21-4c68-b824-15f70e27c555",
   "metadata": {},
   "outputs": [],
   "source": [
    "df_new=pd.DataFrame({\"Actual_n\":y1_test,\"Predictions_n\":linear_new_pred})\n",
    "df_new"
   ]
  },
  {
   "cell_type": "code",
   "execution_count": null,
   "id": "ffb7e766-dc98-4045-bf9a-7fd90340de18",
   "metadata": {
    "scrolled": true
   },
   "outputs": [],
   "source": [
    "sns.lmplot(x=\"Actual_n\",y=\"Predictions_n\",data=df_new,fit_reg=False)\n",
    "d_line=np.arange(df_new.min().min(),df_new.max().max())\n",
    "plt.plot(d_line,color=\"red\",linestyle=\"-\")\n",
    "plt.show()"
   ]
  },
  {
   "cell_type": "markdown",
   "id": "e714f2be-d2c0-466e-96ed-cdafc0da12c8",
   "metadata": {},
   "source": [
    "Final Result::"
   ]
  },
  {
   "cell_type": "code",
   "execution_count": 193,
   "id": "e0d50965-f9d2-4a28-8a60-ad023f7e840e",
   "metadata": {},
   "outputs": [],
   "source": [
    "list1=[\"Linear Regression\",\"Lasso\",\"Ridge\"]\n",
    "list2=[R2,l1_R2,rd_R2]\n",
    "list3=[Adj_R2,l1_adj_R2,rd_adj_R2]\n",
    "list4=[MSE,MSE_l1,MSE_rd]"
   ]
  },
  {
   "cell_type": "code",
   "execution_count": 195,
   "id": "45416ed0-1d62-4372-9931-d9e9c7750174",
   "metadata": {},
   "outputs": [
    {
     "data": {
      "text/html": [
       "<div>\n",
       "<style scoped>\n",
       "    .dataframe tbody tr th:only-of-type {\n",
       "        vertical-align: middle;\n",
       "    }\n",
       "\n",
       "    .dataframe tbody tr th {\n",
       "        vertical-align: top;\n",
       "    }\n",
       "\n",
       "    .dataframe thead th {\n",
       "        text-align: right;\n",
       "    }\n",
       "</style>\n",
       "<table border=\"1\" class=\"dataframe\">\n",
       "  <thead>\n",
       "    <tr style=\"text-align: right;\">\n",
       "      <th></th>\n",
       "      <th>Model_Name</th>\n",
       "      <th>R2_value</th>\n",
       "      <th>Adj_R2</th>\n",
       "      <th>MSE</th>\n",
       "    </tr>\n",
       "  </thead>\n",
       "  <tbody>\n",
       "    <tr>\n",
       "      <th>0</th>\n",
       "      <td>Linear Regression</td>\n",
       "      <td>0.451148</td>\n",
       "      <td>0.368820</td>\n",
       "      <td>79.851775</td>\n",
       "    </tr>\n",
       "    <tr>\n",
       "      <th>1</th>\n",
       "      <td>Lasso</td>\n",
       "      <td>0.429441</td>\n",
       "      <td>0.379282</td>\n",
       "      <td>84.947902</td>\n",
       "    </tr>\n",
       "    <tr>\n",
       "      <th>2</th>\n",
       "      <td>Ridge</td>\n",
       "      <td>0.451042</td>\n",
       "      <td>0.368699</td>\n",
       "      <td>79.964355</td>\n",
       "    </tr>\n",
       "  </tbody>\n",
       "</table>\n",
       "</div>"
      ],
      "text/plain": [
       "          Model_Name  R2_value    Adj_R2        MSE\n",
       "0  Linear Regression  0.451148  0.368820  79.851775\n",
       "1              Lasso  0.429441  0.379282  84.947902\n",
       "2              Ridge  0.451042  0.368699  79.964355"
      ]
     },
     "execution_count": 195,
     "metadata": {},
     "output_type": "execute_result"
    }
   ],
   "source": [
    "Final_Result=pd.DataFrame({\"Model_Name\":list1,\"R2_value\":list2,\"Adj_R2\":list3,\"MSE\":list4})\n",
    "Final_Result"
   ]
  },
  {
   "cell_type": "markdown",
   "id": "af9dae5a-93e4-40fa-83a2-c7d709e2c404",
   "metadata": {},
   "source": [
    "Final result::According to R2 and MSE value Linear regression model is best fitted model for this  dataset .Due to low accuracy \n",
    "is getting with impementing EDA ,hence without EDA means outlier the accuracy is getting 81% which comes under generalize model as expected."
   ]
  }
 ],
 "metadata": {
  "kernelspec": {
   "display_name": "Python 3 (ipykernel)",
   "language": "python",
   "name": "python3"
  },
  "language_info": {
   "codemirror_mode": {
    "name": "ipython",
    "version": 3
   },
   "file_extension": ".py",
   "mimetype": "text/x-python",
   "name": "python",
   "nbconvert_exporter": "python",
   "pygments_lexer": "ipython3",
   "version": "3.12.4"
  }
 },
 "nbformat": 4,
 "nbformat_minor": 5
}
